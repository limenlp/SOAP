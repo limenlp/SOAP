{
 "cells": [
  {
   "cell_type": "code",
   "execution_count": 2,
   "id": "0b9783d1",
   "metadata": {},
   "outputs": [
    {
     "name": "stdout",
     "output_type": "stream",
     "text": [
      "Patching name='__init__', member=<function LLMLingua.__init__ at 0x000002787F9785E0>, patched=<function function.__call__ at 0x000002787F978540>\n",
      "Patching name='compress_text', member=<function LLMLingua.compress_text at 0x000002787F978680>, patched=<function function.__call__ at 0x000002787F978860>\n"
     ]
    }
   ],
   "source": [
    "import os\n",
    "import autogen\n",
    "import autogen.runtime_logging\n",
    "import pandas as pd\n",
    "import sqlite3\n",
    "import json\n",
    "import docx\n",
    "from autogen import AssistantAgent, UserProxyAgent, config_list_from_json\n",
    "from preprocessing.preprocessing import score_processor\n",
    "from preprocessing.preprocessing import generate_conversations,process_pdf,rubric_processor\n",
    "from multi_agent import subjective_agent,objective_agent,assessment_plan_agent\n",
    "from general_SOAP_Note_agent import single_agent_generation,soapnoteagent\n",
    "from evaluation_agent import evaluator_agent,score_generation,detail_score_generation\n",
    "from refiner_agent import refiner_agent,refine_generation"
   ]
  },
  {
   "cell_type": "code",
   "execution_count": 3,
   "id": "6c39772a",
   "metadata": {},
   "outputs": [],
   "source": [
    "conversation_list,conversation_names=generate_conversations('C:/Users/rahul/Desktop/SOAPNote/dataset/VAT Patient Transcripts/VAT Patient Transcripts/')\n",
    "MA_conversation_list=[i for i in conversation_list if ' M.A. User' in i]\n",
    "RT_conversation_list=[i for i in conversation_list if 'R.T. User' in i or 'Patient R.T.’s Alexa' in i] \n",
    "RT_conversation_list=[i for i in RT_conversation_list if 'Baseline' not in i and 'Debrief' not in i  ]\n",
    "rubric=rubric_processor('C:/Users/rahul/Desktop/SOAPNote/rubric/rubric.docx')\n",
    "s_rubric=rubric.split('\\nSubjective\\n')[1].split('\\nObjective\\n')[0]\n",
    "o_rubric=rubric.split('\\nObjective\\n')[1].split('\\nAssessment\\n')[0]\n",
    "ap_rubric=rubric.split('\\nAssessment\\n')[1].split('\\nIssues of Concern\\n')[0]"
   ]
  },
  {
   "cell_type": "code",
   "execution_count": 4,
   "id": "e70a938f",
   "metadata": {},
   "outputs": [],
   "source": [
    "from pypdf import PdfReader\n",
    "MA_SOAP_NOTES_ground_truth=[]\n",
    "path='C:/Users/rahul/Desktop/SOAPNote/dataset/ground_truth_soap_notes/MA'\n",
    "\n",
    "for i in os.listdir('C:/Users/rahul/Desktop/SOAPNote/dataset/ground_truth_soap_notes/MA'):\n",
    "    soap_note_ma=\"\"\n",
    "    file_name=path+'/'+i\n",
    "    reader=PdfReader(file_name)\n",
    "    if 'Week_1' not in file_name:\n",
    "        for j in range(0,len(reader.pages)):\n",
    "            page=reader.pages[j]\n",
    "            text=page.extract_text()\n",
    "            text=text.replace('\\n','')\n",
    "            soap_note_ma+=text\n",
    "    else:\n",
    "        for j in range(1,len(reader.pages)):\n",
    "            page=reader.pages[j]\n",
    "            text=page.extract_text()\n",
    "            text=text.replace('\\n','')\n",
    "            soap_note_ma+=text\n",
    "    MA_SOAP_NOTES_ground_truth.append(soap_note_ma)\n",
    "\n",
    "RT_SOAP_NOTES=[]\n",
    "file_name=\"C:/Users/rahul/Desktop/SOAPNote/dataset/ground_truth_soap_notes/RT/Clinician - RT SOAP Notes.pdf\"\n",
    "reader=PdfReader(file_name)\n",
    "for i in range(0,len(reader.pages)):\n",
    "    soap_note_ra=\"\"\n",
    "    page=reader.pages[i]\n",
    "    text=page.extract_text()\n",
    "    text=text.replace('\\n','')\n",
    "    soap_note_ra+=text\n",
    "    RT_SOAP_NOTES.append(soap_note_ra)\n",
    "RT_SOAP_NOTES=RT_SOAP_NOTES[:4]"
   ]
  },
  {
   "cell_type": "code",
   "execution_count": 5,
   "id": "f8a82600",
   "metadata": {},
   "outputs": [
    {
     "data": {
      "text/plain": [
       "4"
      ]
     },
     "execution_count": 5,
     "metadata": {},
     "output_type": "execute_result"
    }
   ],
   "source": [
    "len(RT_SOAP_NOTES)"
   ]
  },
  {
   "cell_type": "code",
   "execution_count": 6,
   "id": "4ed38f4d",
   "metadata": {},
   "outputs": [
    {
     "data": {
      "text/plain": [
       "5"
      ]
     },
     "execution_count": 6,
     "metadata": {},
     "output_type": "execute_result"
    }
   ],
   "source": [
    "len(MA_SOAP_NOTES_ground_truth)"
   ]
  },
  {
   "cell_type": "code",
   "execution_count": 7,
   "id": "641f2cc6",
   "metadata": {},
   "outputs": [],
   "source": [
    "from sklearn.model_selection import train_test_split\n",
    "training_dict=dict()\n",
    "for i in range(0,len(MA_conversation_list)):\n",
    "    training_dict[MA_conversation_list[i]]=MA_SOAP_NOTES_ground_truth[i]\n",
    "\n",
    "for i in range(0,len(RT_conversation_list)):\n",
    "    training_dict[RT_conversation_list[i]]=RT_SOAP_NOTES[i]\n",
    "\n",
    "X=list(training_dict.keys())\n",
    "y=list(training_dict.values())\n",
    "X_train,X_test,y_train,y_test=train_test_split(X,y,test_size=0.4,random_state=42)"
   ]
  },
  {
   "cell_type": "code",
   "execution_count": 9,
   "id": "bc1d5779",
   "metadata": {},
   "outputs": [],
   "source": [
    "import textgrad as tg\n",
    "from textgrad.tasks import load_task\n",
    "from autogen import AssistantAgent, UserProxyAgent, config_list_from_json\n",
    "import sacrebleu\n",
    "import os\n",
    "from rouge_score import rouge_scorer\n",
    "config_list = config_list_from_json(\"C:/Users/rahul/Documents/OAI_CONFIG_LIST.json\")\n",
    "api_key=config_list[0]['api_key']\n",
    "os.environ[\"OPENAI_API_KEY\"] = api_key\n",
    "conversation=MA_conversation_list[0]\n",
    "llm_engine = tg.get_engine(\"gpt-4o-mini\")\n",
    "tg.set_backward_engine(\"gpt-4o\",override=True)\n",
    "\n",
    "def batch_eval_fn(prediction,ground_truth):\n",
    "    totalloss=None\n",
    "    cross_entropy_loss_list=[]\n",
    "    for pred,ans in zip(prediction,ground_truth):\n",
    "        eval_system_prompt= f\"\"\"How closely does the generated SOAP note match this target SOAP note? Return a higher loss score for greater differences.\n",
    "\n",
    "TARGET: {ans.value}\n",
    "\n",
    "Score from 0-10 where:\n",
    "- 0 = Perfect match\n",
    "- 10 = Completely different\"\"\"\n",
    "        cross_entropy_loss=tg.TextLoss(eval_system_prompt=eval_system_prompt,engine=llm_engine)\n",
    "        cross_entropy_loss_list.append(cross_entropy_loss(pred))\n",
    "    totalloss=tg.sum(cross_entropy_loss_list)\n",
    "    return totalloss\n",
    "\n",
    "question_str_list=[]\n",
    "for i in X_train:\n",
    "    question_str=f'''What would a comprehensive SOAP note look like based strictly on the \n",
    "    following conversation between a patient and a clinician: {i}, \n",
    "    ensuring it includes all relevant details from the conversation and follows the structure and style described in the provided rubric : {rubric}? '''\n",
    "    question_str_list.append(tg.Variable(question_str,role_description=\"question to the LLM\", requires_grad=False))\n",
    "answer=[tg.Variable(i,role_description=\"answer to the question\",requires_grad=False) for i in y_train]\n",
    "\n",
    "system_prompt = tg.Variable(f\"You are a clinician who is responsible for generating a SOAP Note from the conversation between the doctor(s) and the patient. Follow this rubric : {rubric}\",\n",
    "                            requires_grad=True,\n",
    "                            role_description=\"system prompt to guide the LLM's reasoning strategy for accurate responses\")\n",
    "\n",
    "\n",
    "model = tg.BlackboxLLM(llm_engine, system_prompt=system_prompt)\n",
    "optimizer = tg.TGD(parameters=list(model.parameters()))\n",
    "prediction_list=[model(i) for i in question_str_list]\n",
    "loss = batch_eval_fn(prediction_list,answer)\n",
    "loss.backward()\n",
    "optimizer.step()"
   ]
  },
  {
   "cell_type": "code",
   "execution_count": 10,
   "id": "7b861041",
   "metadata": {},
   "outputs": [
    {
     "data": {
      "text/plain": [
       "Variable(value=You are a clinician responsible for generating a SOAP Note from the conversation between the doctor(s) and the patient. Your task is to capture the session's dynamics, focusing on the interactions, motivations, and roles of the participants. Follow this rubric:\n",
       "\n",
       "Introduction:\n",
       "The Subjective, Objective, Assessment, and Plan (SOAP) note is a structured method of documentation for healthcare providers. It provides a framework for clinical reasoning and communication among health professionals.\n",
       "\n",
       "Function:\n",
       "The SOAP note serves as a cognitive aid and a potential index for retrieving information for learning from the record.\n",
       "\n",
       "Structure:\n",
       "The 4 headings of a SOAP note are Subjective, Objective, Assessment, and Plan. Each heading is described below.\n",
       "\n",
       "Subjective:\n",
       "- Capture the patient's experiences, views, or feelings.\n",
       "- Include specific goals and motivations expressed by the patient.\n",
       "- Document the interaction dynamics, including support and prompting from caregivers.\n",
       "\n",
       "Objective:\n",
       "- Document objective data from the session, including specific commands practiced and their success rates.\n",
       "- Include performance metrics and any assistance required.\n",
       "\n",
       "Assessment:\n",
       "- Provide a detailed analysis of the patient's challenges and progress.\n",
       "- Focus on the patient's engagement with specific topics and the depth of their interaction.\n",
       "- Minimize clinical analysis unless explicitly relevant to the session.\n",
       "\n",
       "Plan:\n",
       "- Include specific, actionable tasks and commands for the patient to practice.\n",
       "- Outline homework assignments and strategies for future sessions.\n",
       "- Ensure the plan is aligned with the session's objectives and the target note's structure.\n",
       "\n",
       "Issues of Concern:\n",
       "- Consider rearranging the order to form APSO (Assessment, Plan, Subjective, Objective) if it provides a more logical flow of information.\n",
       "- Address any gaps in the SOAP model, such as the integration of time into its cognitive framework.\n",
       "\n",
       "Clinical Significance:\n",
       "- Ensure the SOAP note is concise, focused, and relevant to the therapy session's goals and outcomes.\n",
       "- Reflect the session's context, including discussions about future technology use and patient education.\n",
       "\n",
       "By following these guidelines, you will produce a SOAP note that aligns with the session's focus and the target note's structure, ultimately improving the quality and relevance of the generated response., role=system prompt to guide the LLM's reasoning strategy for accurate responses, grads={Variable(value=To improve the system prompt and guide the LLM's reasoning strategy for more accurate responses, consider the following feedback:\n",
       "\n",
       "1. **Emphasize Session Dynamics:**\n",
       "   - The system prompt should explicitly instruct the LLM to capture the dynamics of the session, particularly the interactions between M.A. and his caregiver. This can be achieved by including a directive to note instances where the caregiver provides assistance or additional context, ensuring these interactions are reflected in the SOAP note.\n",
       "\n",
       "2. **Highlight Specific Commands and Success Rates:**\n",
       "   - The prompt should guide the LLM to focus on the specific commands practiced during the session and their success rates. Including a directive to document examples of commands, the context in which they were practiced, and any assistance required would help the LLM generate a more detailed and comprehensive Objective section.\n",
       "\n",
       "3. **Clarify the Relevance of Chief Complaint and HPI:**\n",
       "   - The prompt should clarify when to include or exclude elements like the Chief Complaint and History of Present Illness. It could specify that these sections should only be included if they directly relate to the session's focus on technology use and caregiver involvement, preventing unnecessary information from being added.\n",
       "\n",
       "4. **Focus on Progress and Challenges:**\n",
       "   - The system prompt should instruct the LLM to emphasize M.A.'s progress and challenges with the Alexa device in the Assessment section. It should guide the LLM to avoid formal differential diagnoses unless relevant, and instead provide a narrative that highlights specific challenges, such as command recognition issues.\n",
       "\n",
       "5. **Detail Home Practice Tasks:**\n",
       "   - The prompt should encourage the LLM to include specific home practice tasks in the Plan section. It could direct the LLM to list commands and tasks for M.A. to practice at home, providing clear guidance for both M.A. and his caregiver.\n",
       "\n",
       "6. **Enhance Contextual Relevance:**\n",
       "   - The system prompt should ensure that the LLM reflects the session's context, including discussions about integrating additional functionalities of the Alexa device. It could include a directive to capture any plans or discussions about future technology use for self-care and medication management.\n",
       "\n",
       "7. **Incorporate Feedback Mechanisms:**\n",
       "   - The prompt could include a mechanism for the LLM to self-assess its output against the target note's focus, ensuring alignment with the session's objectives. This could involve a checklist or set of questions the LLM uses to verify the inclusion of key elements.\n",
       "\n",
       "By incorporating these strategies into the system prompt, the LLM can be better guided to produce a SOAP note that aligns with the session's focus and the target note's structure, ultimately improving the quality and relevance of the generated response., role=feedback to system prompt to guide the LLM's reasoning strategy for accurate responses, grads=set()), Variable(value=To improve the system prompt and guide the LLM's reasoning strategy for generating a SOAP note that aligns more closely with the target note, consider the following feedback:\n",
       "\n",
       "1. **Emphasize Patient Motivation and Readiness:**\n",
       "   - The system prompt should explicitly instruct the LLM to capture the patient's motivation and readiness to participate in the Subjective section. This can be achieved by including a directive to assess and document the patient's willingness and enthusiasm for using technology and engaging in health-related tasks.\n",
       "\n",
       "2. **Highlight Specific Goals:**\n",
       "   - The prompt should guide the LLM to identify and document specific goals related to the patient's use of Alexa for functional tasks. This could involve adding a section in the prompt that encourages the LLM to extract and detail the patient's objectives, such as using voice commands for information-seeking or managing daily activities.\n",
       "\n",
       "3. **Incorporate Performance Metrics:**\n",
       "   - To align with the target note's Objective section, the prompt should instruct the LLM to include performance metrics. This could involve guiding the LLM to quantify the patient's progress, such as the number of successful interactions with Alexa or the percentage of tasks completed using the device.\n",
       "\n",
       "4. **Detail Engagement with Topics:**\n",
       "   - The prompt should encourage the LLM to provide a detailed account of the patient's engagement with specific topics, such as the Olympics and elections. This can be achieved by instructing the LLM to focus on the patient's interests and the depth of their engagement with these topics in the Subjective section.\n",
       "\n",
       "5. **Outline Homework and Strategies:**\n",
       "   - The system prompt should guide the LLM to include specific homework and strategies for future sessions. This could involve adding a directive to identify and document any assignments or strategies that will support the patient's progress, ensuring these are clearly outlined in the Plan section.\n",
       "\n",
       "6. **Ensure Consistency Across Sections:**\n",
       "   - The prompt should emphasize the importance of maintaining consistency across all sections of the SOAP note. This can be achieved by instructing the LLM to balance the focus between technology use, medication management, and the patient's specific goals and interests, ensuring each section aligns with the target note's content and focus.\n",
       "\n",
       "By incorporating these elements into the system prompt, the LLM can be better guided to produce a SOAP note that aligns with the target note, thereby improving the response and achieving a closer match with the desired output., role=feedback to system prompt to guide the LLM's reasoning strategy for accurate responses, grads=set()), Variable(value=To improve the system prompt and guide the LLM's reasoning strategy for accurate responses, consider the following feedback:\n",
       "\n",
       "1. **Emphasize Therapy Session Context**: The system prompt should explicitly state that the SOAP note is being generated from a therapy session rather than a general clinical encounter. This will help the LLM focus on therapy-specific content and avoid irrelevant sections like vital signs and medications.\n",
       "\n",
       "2. **Highlight Conciseness and Focus**: The prompt should instruct the LLM to prioritize conciseness and focus on the therapy session's goals, outcomes, and specific activities. This aligns with the target note's structure and ensures that the generated note is not overly detailed with unnecessary patient information.\n",
       "\n",
       "3. **Incorporate Specific Goals and Outcomes**: The prompt should guide the LLM to include specific, quantifiable goals and outcomes related to the therapy session. This could involve setting targets for the use of voice commands with a specific accuracy percentage and cue level, as seen in the target note.\n",
       "\n",
       "4. **Relevance of Content**: The prompt should direct the LLM to exclude irrelevant sections such as vital signs and medications, focusing instead on therapy-related content. This ensures that the generated note is aligned with the session's objectives and the target note's format.\n",
       "\n",
       "5. **Use of Therapy-Specific Terminology**: The prompt should encourage the use of terminology consistent with therapy sessions, avoiding overly clinical language that does not pertain to the session's objectives. This helps in maintaining relevance and clarity in the generated note.\n",
       "\n",
       "6. **Assessment and Plan Specificity**: The prompt should instruct the LLM to provide specific details in the assessment and plan sections, including any homework assignments, strategies, or actions the patient should take. This aligns with the target note's emphasis on actionable outcomes.\n",
       "\n",
       "7. **Focus on Therapy Process and Outcomes**: The prompt should emphasize the importance of detailing the therapy process and outcomes, including the patient's performance during the session and any progress made towards therapy goals. This ensures that the generated note reflects the session's objectives and the target note's focus.\n",
       "\n",
       "By incorporating these strategies into the system prompt, the LLM can be guided to produce a SOAP note that better matches the target note's structure and objectives, thereby improving the response's alignment with the objective function., role=feedback to system prompt to guide the LLM's reasoning strategy for accurate responses, grads=set()), Variable(value=To improve the system prompt and better align the language model's output with the objective function, consider the following strategies:\n",
       "\n",
       "1. **Emphasize Session-Specific Details**: The system prompt should explicitly instruct the LLM to focus on capturing session-specific details, such as the involvement of M.A.'s mother, the specific commands practiced, and the dynamics of the interaction. This can be achieved by including a directive to prioritize the inclusion of these elements in the SOAP note.\n",
       "\n",
       "2. **Highlight Interaction Dynamics**: The prompt should guide the LLM to pay particular attention to the interaction dynamics between M.A., his mother, and the clinician. This includes recognizing the role of verbal cues, support, and prompting provided by M.A.'s mother. By emphasizing these aspects, the LLM can produce a more accurate and comprehensive representation of the session.\n",
       "\n",
       "3. **Reduce Clinical Analysis Focus**: The prompt should instruct the LLM to minimize the emphasis on clinical analysis, such as differential diagnoses and structured plans, unless explicitly relevant to the session. Instead, the focus should be on practical aspects, such as the specific commands practiced and the homework assignments given.\n",
       "\n",
       "4. **Incorporate Homework Assignments**: The system prompt should remind the LLM to include any homework assignments or follow-up actions discussed during the session. This ensures that the generated note provides a complete picture of the session's objectives and future steps.\n",
       "\n",
       "5. **Align with Target Note Structure**: The prompt should guide the LLM to closely follow the structure and content of the target note. This includes providing a clear framework for organizing the SOAP note, ensuring that all relevant details from the session are captured accurately.\n",
       "\n",
       "6. **Encourage Consistency and Focus**: The prompt should emphasize the importance of maintaining consistency in content and focus with the target note. This involves ensuring that all relevant details are present and that the note accurately reflects the session's dynamics and objectives.\n",
       "\n",
       "By implementing these strategies, the system prompt can better guide the LLM's reasoning strategy, resulting in a more accurate and aligned SOAP note that meets the objective function effectively., role=feedback to system prompt to guide the LLM's reasoning strategy for accurate responses, grads=set()), Variable(value=To improve the system prompt and guide the LLM's reasoning strategy for more accurate responses, consider the following strategies:\n",
       "\n",
       "1. **Emphasize Contextual Understanding**: The system prompt should encourage the LLM to focus on understanding the context of the conversation, particularly the specific user scenarios and commands practiced by M.A. This can be achieved by instructing the LLM to pay attention to the details of the interactions, motivations, and roles of the participants, such as M.A.'s cooperation and the encouragement from his mother and clinicians.\n",
       "\n",
       "2. **Highlight Specificity in Documentation**: The prompt should stress the importance of including specific details from the conversation in the SOAP note. This includes the exact commands practiced, the challenges faced, and the strategies discussed to overcome these challenges. By doing so, the LLM can generate a more comprehensive and aligned note.\n",
       "\n",
       "3. **Encourage Detailed Analysis**: The system prompt should guide the LLM to perform a deeper analysis of the challenges M.A. faced with the Alexa device. This includes understanding the issues with verbal output, the need for prompts to speak louder, and the specific user needs assessment. Encouraging a detailed analysis will enhance the accuracy of the \"Assessment\" section.\n",
       "\n",
       "4. **Focus on Actionable Plans**: The prompt should instruct the LLM to create a \"Plan\" section that includes specific tasks and commands for M.A. to practice, as outlined in the target note's home exercise program. This will provide a clear and actionable plan for M.A. to improve his interaction with the device.\n",
       "\n",
       "5. **Balance Between Structure and Flexibility**: While the SOAP note structure is important, the prompt should also allow for flexibility in rearranging the order if it benefits the clarity and relevance of the information. For instance, considering the APSO order if it provides a more logical flow of information.\n",
       "\n",
       "6. **Incorporate Feedback Mechanisms**: The prompt should include a mechanism for the LLM to incorporate feedback from previous iterations, allowing it to refine its responses based on what has been effective or ineffective in past outputs.\n",
       "\n",
       "7. **Enhance Tone and Detail**: The prompt should guide the LLM to match the tone and level of detail of the target note. This includes providing a thorough account of M.A.'s interactions, challenges, and the context of the training, ensuring the generated note is as detailed and specific as the target note.\n",
       "\n",
       "By implementing these strategies, the system prompt can better guide the LLM to produce a SOAP note that aligns more closely with the target note, thereby improving the overall quality and accuracy of the generated response., role=feedback to system prompt to guide the LLM's reasoning strategy for accurate responses, grads=set())})"
      ]
     },
     "execution_count": 10,
     "metadata": {},
     "output_type": "execute_result"
    }
   ],
   "source": [
    "system_prompt"
   ]
  },
  {
   "cell_type": "code",
   "execution_count": 11,
   "id": "93b2387b",
   "metadata": {},
   "outputs": [],
   "source": [
    "single_soap_note_list=[]\n",
    "for conversation in X:\n",
    "    soap_note=single_agent_generation(conversation,rubric,system_prompt.value)\n",
    "    single_soap_note_list.append(soap_note)"
   ]
  },
  {
   "cell_type": "code",
   "execution_count": 12,
   "id": "78f319e3",
   "metadata": {},
   "outputs": [
    {
     "data": {
      "text/plain": [
       "['**SOAP Note**\\n\\n**Subjective:**\\nPatient M, a visually impaired individual, attended a session to practice commands with their Alexa device, mainly focusing on scheduling reminders and accessing entertainment. Patient M expressed contentment at independently setting reminders, showcasing excitement over successfully using the device. The caregiver, Speaker 3, played an active supportive role, helping to unmute Alexa and encouraging Patient M during the session. Patient M conveyed a preference for sports, particularly ice hockey, and auditory games designed for the visually impaired. Speaker 3 supported the patient by facilitating game setups and offering imaginative assistance, like drawing out sports plays. There was a notable emphasis on exploring entertainment options via technology, fostering independence and engagement.\\n\\n**Objective:**\\nDuring the session, Patient M attempted several Alexa commands:\\n- Successfully set an appointment for 5:45 PM. \\n- Faced an initial challenge with Alexa not hearing the command but succeeded on the second attempt.\\n- Expressed a preference for sports and was able to identify platforms such as TV and Xbox for following sports events.\\n- Collaborated on coming up with scenarios to use Alexa for entertainment needs, demonstrating understanding but requiring guidance from Speaker 3 and Speaker 2.\\n- Practiced setting reminders and playing music, requiring specific streaming services for broader music access.\\n- Successfully executed an Alexa command to play \"Sweet Caroline,\" illustrating proficiency when commands were specific and concise.\\n\\n**Assessment:**\\nPatient M shows progress in using Alexa for scheduling and entertainment, demonstrating increased independence and technological comfort. Initially faced challenges with clarity and specificity of commands. The patient showed enthusiasm for sports engagement and auditory games, facilitated by the caregiver\\'s creative interventions and support. The session indicated a strong potential for mobile technology to enhance Patient M\\'s daily life.\\n\\n**Plan:**\\n- Continue practicing precise voice commands, focusing on the clarity and timing of speech after addressing Alexa.\\n- Encourage exploring additional Alexa skills geared towards auditory instructions, enhancing accessibility.\\n- Set up music streaming services like Spotify or Amazon Music to broaden music command capabilities.\\n- Speaker 3 and Patient M should collaborate on creating a list of potential games and request additional feedback from the clinician on compatible options.\\n- Review strategies for utilizing Alexa\\'s entertainment features, emphasizing practice on how to navigate music, sports updates, and enjoyable activities independently.\\n- Schedule follow-up sessions to address challenges, monitor progress, and adjust strategies for optimal engagement and learning.',\n",
       " \"**SOAP Note for Patient M.A. - Session Date: 07/25/2024**\\n\\n**Subjective:**\\nThe session began with a demonstration of M.A.’s ability to interact with Speaker 4, his personal assistant, for setting reminders and appointments. M.A. successfully set an appointment, expressing satisfaction with his autonomous capability. When prompted about leisure activities, M.A. showed interest in sports, specifically ice hockey, and also mentioned playing video games. The caregiver contributed by creating an engaging environment by drawing plays on M.A.'s back, enhancing his understanding of games. They have adapted video games for auditory interaction, which M.A. finds accessible. M.A. expressed a preference for music by artists like Nipsey Hussle and Kendrick Lamar, indicating a reliance on music for entertainment. The dynamic interaction between M.A., his caregiver, and the clinician was supportive, with efforts focused on adapting technology for M.A.'s engagement in preferred activities.\\n\\n**Objective:**\\nM.A. demonstrated the ability to successfully communicate commands to Speaker 4 for setting reminders, with a few repetitions needed for accuracy. He practiced specific entertainment-related commands, including inquiring about sports channels and setting reminders for leisure activities. There was also successful engagement with playing music requests through Speaker 4, though library restrictions were noted. The session showed M.A.'s capability to perform tasks independently but highlighted a need for adaptive tools to aid in visual impairments, with a current focus on auditory assistance.\\n\\n**Assessment:**\\nM.A. shows progress in utilizing adaptive technology for improving daily living and recreation. His continued interest in sports and music provides a rich motivation for integrating auditory technology into his activities. The caregiver’s innovative approaches, like drawing plays, illustrate robust support dynamics that enhance M.A.'s understanding and enjoyment. Performance challenges exist in remembering specific commands and achieving desired outcomes without repetition. Engagement levels are high in preferred activities like music and sports discussion, indicating successful interventions. Ensuring consistent satisfaction with device interaction will require resolving accessibility limitations with media services.\\n\\n**Plan:**\\n- Encourage daily practice with Speaker 4 for reminders and entertainment commands to improve fluency and confidence.\\n- Explore additional auditory games compatible with M.A.'s preferences and capabilities.\\n- Enroll in a streaming service that integrates well with Speaker 4 to expand music and video accessibility.\\n- Continue support from the caregiver in engaging M.A. through creative methods, such as sports play drawings.\\n- Address potential technological enhancements for visual accessibility with available voice-activated games and applications.\\n- Consider future sessions focusing on developing more complex command structures to enhance M.A.'s interaction independence with Speaker 4.\\n- Follow up to integrate streaming service functionality and ensure ease of use, particularly for music and movie enjoyment. Provide education resources to the caregiver to explore voice-activated apps on streaming platforms.\",\n",
       " \"**SOAP Note for Patient M.A. Therapy Session**\\n\\n**Subjective:**\\nPatient M.A. participated in a session focused on enhancing his self-care and medical management skills using voice-assisted technology. M.A. expressed a goal to use his device, referred to as Speaker 4, to assist with day-to-day tasks such as brushing his teeth, trimming his nails, and eating breakfast. M.A. currently uses his iPhone for reminders but aims to become more independent by leveraging Speaker 4 for additional reminders. The caregiver expressed a keen interest in integrating radio streaming from KC 790 and Bard library books with the device, highlighting an active and supportive role in M.A.'s therapy. The caregiver also emphasized M.A.'s past independence when he lived alone, reinforcing personal empowerment and motivation for M.A. to regain self-sufficiency.\\n\\n**Objective:**\\n- Successfully demonstrated setting reminders and organizing self-care schedules using Speaker 4.\\n- Practiced voice commands for deleting items from a medication list, adding reminders for medication timing, and sourcing local pharmacies.\\n- Commands were executed with varying success; Speaker 4 correctly managed reminder tasks, although experienced difficulties with more complex, multi-step instructions.\\n- Assistance was frequently required from the caregiver to mitigate technological miscommunications and clarify device functionalities.\\n- Performance Metrics: M.A. responded accurately to simpler commands but required significant prompting and guidance through advanced technological tasks.\\n\\n**Assessment:**\\nM.A. shows strong motivation to enhance his independence in daily living through technology. He is successfully utilizing Speaker 4 for basic reminders but faces challenges in integrating more sophisticated functions, such as interconnected application usage (e.g., Bard library integration). Continued support from his caregiver is beneficial and essential in this learning phase. M.A.'s engagement with tasks indicates a positive trajectory towards achieving greater autonomy, yet complex instruction execution and multitasking with Speaker 4 remain areas needing improvement.\\n\\n**Plan:**\\n- Continue practicing daily voice commands with Speaker 4 to facilitate greater independence. Prioritize commands related to personal care and medication.\\n- Introduce practice sessions to resolve technical issues, specifically focusing on the synchronization of additional applications like iHeartRadio and Bard.\\n- Assign homework: Practice new voice commands to create and manage a checklist for daily self-care activities using Speaker 4.\\n- The caregiver will research app integrations and possibly contact the Braille Institute for support on voice-activated accessibility features.\\n- Next session: Focus on seamlessly executing multi-step commands with Speaker 4, enhancing comfort with technology, and addressing unresolved technical challenges.\\n- Plan to reassess technology integration efficacy and patient independence in upcoming weeks.\\n\\n**Issues of Concern:**\\nA reassessment of task organization using APSO (Assessment, Plan, Subjective, Objective) is suggested for clarity and efficiency, given the session's dual focus on technological education and personal independence advancement.\\n\\n**Clinical Significance:**\\nThis session highlights the significant role of caregiver support and adaptive technology in patient empowerment. Strategic utilization of digital assistants can bridge independence gaps when coupled with caregiver engagement and patient willingness. Further refinement in technology use and process evaluation is required to maximize M.A.'s independence effectively.\",\n",
       " \"**SOAP Note for Patient M.A.**\\n\\n**Subjective:**\\nThe session started with M.A.'s caregiver confirming that they completed the homework with M.A. The patient found the task easy, which involved adding daily medication reminders using a virtual assistant device (Alexa). Although M.A. initially struggled with the phrasing, he eventually succeeded by accurately stating the required command without needing the word 'tomorrow.' There was support from caregivers to recall the specific commands practiced during the week. M.A. mentioned that the device assists with daily living and enjoys asking it for jokes and the current temperature. M.A.'s caregivers and clinician discussed utilizing the device for accessing news and checking facts, such as historical inquiries about World War II and the Olympics. \\n\\n**Objective:**\\nThe session focused on practicing voice commands with a smart device. Commands executed during the session included adding medication to a list, checking the temperature, and asking for news updates. M.A. demonstrated the ability to mute and unmute the device independently. Voice command accuracy improved, particularly in creating a medication list and requesting specific information. M.A. successfully asked the device for current events and facts, participating in scenario-based practice relevant to daily life, such as determining local traffic conditions and current temperatures.\\n\\n**Assessment:**\\nM.A. showed progress in using the Alexa device with increasing independence, which contributes to his goal of using technology to aid in daily activities and information retrieval. There is a notable improvement in executing voice commands correctly, although initial recall issues suggest continuing dependence at times on caregiver support. M.A.'s engagement with the device indicates growing confidence and competence. M.A.'s interest in information such as weather, news, and historical facts indicates cognitive engagement and an ability to generalize learned skills to various contexts.\\n\\n**Plan:**\\n1. Continue practicing voice commands with an emphasis on independence—encourage M.A. to use the device daily and without caregiver prompting.\\n2. Schedule regular practice at home, focusing on commands for accessing news, weather updates, setting reminders, and fact-checking.\\n3. Implement a checklist for M.A. to follow during practice sessions to minimize caregiver intervention.\\n4. Introduce more complex commands gradually, such as syncing calendars and making inquiries about specific interests (e.g., Olympic history).\\n5. Monitor and support the development of M.A.’s ability to seek information independently using the device.\\n6. Share the practice schedule with caregivers and ensure they understand the device's functionalities to offer adequate support without leading.\\n7. Plan follow-up sessions to assess progress and adjust strategies as needed based on M.A.'s evolving needs and capabilities.\\n\\n**Clinical Significance:**\\nThis session highlights the integration of technology in patient rehabilitation, focusing on enhancing independence in daily living skills through the use of smart devices. M.A.'s engagement with Alexa as a tool demonstrates technology's potential in supporting cognitive and procedural learning, which can significantly impact quality of life and self-sufficiency.\",\n",
       " '**SOAP Note for Patient M.A. - Session Date: 08-15-2024 (Week 5)**\\n\\n**Subjective:**\\n- **Patient\\'s Experience and Motivation:** Patient M.A. engaged in the session with a focus on learning how to effectively use voice commands to interact with the Alexa device for meal preparation. M.A. expressed curiosity and willingness to explore different technology solutions to aid in this task, particularly interested in finding recipes and creating a shopping list independently.\\n- **Interaction Dynamics:** The session included active participation from M.A., support and prompting from M.A.’s caregiver (Speaker 1), and guidance from the clinician. M.A. showed a keen interest in incorporating dietary preferences, such as finding gluten-free or vegan recipes, and was eager to improve interaction with technology to enhance independence in cooking and shopping tasks.\\n\\n**Objective:**\\n- **Commands Practiced:** M.A. practiced commands involving asking for recipes, reading ingredients, and managing a shopping list. Specific commands included asking the Alexa to find, read, and list mac and cheese recipes, including gluten-free options.\\n- **Performance Metrics:** M.A. was successful in initial basic commands but faced challenges with getting the device to read recipe details aloud due to device limitations. Alternative methods were discussed, such as using more specific commands or different devices like an Echo Dot. \\n- **Assistance Required:** Significant guidance from both the clinician and caregivers was needed to navigate device settings and refine command syntax for optimal performance.\\n\\n**Assessment:**\\n- **Challenges:** M.A. experienced difficulties with device interactions, especially when attempting to obtain detailed verbal feedback from the Alexa with a screened device.\\n- **Progress:** M.A. showed improved confidence in vocal projection and command delivery, indicating progress from initial sessions where M.A. was more reserved.\\n- **Engagement:** Increased engagement with the session’s tasks was noted, with a specific interest in leveraging technology for dietary planning and adherence to dietary preferences, such as gluten-free and vegetarian options.\\n\\n**Plan:**\\n- **Next Steps for Practice:**\\n  1. **Continue practicing commands** with a focus on more specific phrasing to reduce ambiguity, such as specifying the desired recipe\\'s dietary restrictions or source (e.g., \"find a gluten-free mac and cheese recipe from Allrecipes\").\\n  2. **Explore different devices** like the Echo Dot, which may provide better auditory feedback without relying on visual interaction.\\n  3. **Homework Assignments:** Practice formulating commands to create a complete shopping list and execute step-by-step meal preparations using voice commands.\\n  4. **Device Settings Optimization:** Clinician and caregivers to research and potentially implement settings adjustments, such as enabling voice view for assisted reading options on the current Alexa device.\\n  5. **Patient Education:** Further exploration into dietary information retrieval via Alexa commands, including nutritional content (sugar, sodium) for specific foods.\\n  \\n- **Future Sessions Focus:** Emphasis on increasing M.A.\\'s independence with meal planning and shopping through enhanced proficiency with voice-activated technology, alongside continued support and refinement of device interaction techniques.\\n\\n**Issues of Concern:**\\n- Efforts remain ongoing to mitigate the limitations presented by screen-based devices in auditory feedback.\\n- Future sessions may rearrange the SOAP note format into APSO to facilitate quicker access to critical planning and assessment details, emphasizing progress and actionable steps for M.A.’s goals in technology-assisted living.',\n",
       " '**SOAP Note**  \\n\\n---\\n\\n**Subjective:**  \\nThe patient, R.T., reports utilizing multiple scheduling tools to manage reminders and appointments, including a physical wall calendar and the Apple calendar on their iPhone. The patient feels the importance of having these double-entered aids in reinforcing their commitment to appointments. They express reliance on reminders for various therapies, such as physical and speech therapy, with support from their parents for transport. The interaction revealed a focus on setting reminders to manage socialization, therapy sessions, financial visits to the credit union, and the patient’s goals towards independence. The patient is motivated to enhance communicative interactions, manage personal care before appointments, and grow in financial independence.\\n\\n**Objective:**  \\nR.T. successfully implements dual scheduling strategies, utilizing both a physical calendar and a digital app to reinforce routine compliance. The patient also uses audio (Alexa or phone reminders) to prepare for events requiring physical readiness, demonstrating a 100% usage rate of these strategies for known activities like therapies and social engagements. R.T. is practicing compensatory strategies such as visual reminders and auditory cues for task management and appears to acknowledge the need for initiation in communication per therapy goals.\\n\\n**Assessment:**  \\nR.T. shows effective use of compensatory strategies, demonstrating competency in managing a dual calendaring system. There is a clear effort in maintaining routine through consistent time frames set for reminders, such as preparing for physical therapy. The patient is actively working towards increasing independence and taking ownership of scheduling. Challenges include initiation in social interactions and requiring reminders for self-care related to therapy sessions. The motivation to independently manage schedules highlights progress in cognitive organization and self-reliance.\\n\\n**Plan:**  \\n1. **Continue Current Strategies:** R.T. will continue using both physical and digital scheduling tools to reinforce commitment to appointments.\\n   \\n2. **Enhancement of Initiation Skills:** Practice starting conversations during social gatherings and therapy sessions. R.T. could brainstorm conversation topics and create reminder prompts for speech initiation.\\n\\n3. **Self-Care Reminders:** Establish specific reminders for actions like applying lotion, bringing a water bottle, or selecting attire.\\n\\n4. **Financial Management Practice:** Set goals for financial independence, with reminders for monthly credit union visits to track investments and savings.\\n\\n5. **Family and Peer Engagement:** Encourage social interactions that foster goal-oriented communication. Establish reminders for event preparation like visiting a restaurant with family.\\n\\n6. **Follow-up:** In the next session, evaluate the success of structured conversation initiation and the effectiveness of the reminders in achieving therapy goals. Collaborate with clinician Angela for additional communication strategies.\\n\\n--- \\n\\nThis structured note provides a clear framework of R.T.’s experiences and goals, alongside the strategies employed to meet therapeutic objectives. It emphasizes actionable tasks that will aid in continuous development and independence in daily activities.',\n",
       " \"**SOAP Note for Therapy Session on 07-25-2024**\\n\\n**Subjective:**\\nThe session involved a group therapy discussion focused on entertainment and the use of digital assistants, specifically Alexas, for leisure activities. Patient R.T. expressed an interest in using Alexa for finding trending movies and was enthusiastic about going to the cinema, highlighting the enjoyment of watching movies with humor and eating popcorn. R.T. utilizes a laptop and cellphone for entertainment, often visiting YouTube for music and social media for updates on friends’ activities. The patient is familiar with Spotify as a music streaming service they find valuable for its calming music selection.\\n\\nR.T. demonstrated an interest in nostalgia, preferring old folk and melodic rock music like Fleetwood Mac. The patient mentioned a need for soothing music while engaging in mentally demanding tasks such as renewing their laboratory license. There were attempts to create playlists and incorporate reminders using their Alexa to optimize use for personal scheduling needs.\\n\\n**Objective:**\\n- R.T. successfully interacted with their Alexa, giving commands to set alarms and reminders. Demonstrated commands included: setting an alarm for 5 minutes and creating recurring reminders to complete tasks.\\n- During the group session, R.T. practiced playing media commands with a quasi-success rate, occasionally needing prompts from the clinicians to refine commands for precision.\\n- R.T.’s grasp of using music and video streaming services via Alexa showed progress but required additional support in using specific command syntax—particularly with video playbacks and fast-forwarding features.\\n\\n**Assessment:**\\nR.T. is actively engaging in integrating technology into daily routines, showing initiative in learning and adapting to new ways of accessing entertainment. The patient displays a positive attitude towards learning despite occasional difficulties with command syntax when using Alexa. There appears to be a moderate level of competency, particularly in setting reminders and basic command usage for preferred hobbies like listening to music and planning entertainment activities. Further focus could help R.T. fully leverage Alexa’s capabilities for stress relief and effective personal/work task management.\\n\\n**Plan:**\\n1. **Homework Assignment:** R.T. is encouraged to practice setting and using a variety of reminders or alarms on Alexa independently to reinforce learning and promote autonomy.\\n2. **Practice Commands:** Continue practicing play/pause and volume adjustment commands with both music and video content on platforms like YouTube and Spotify. Experiment with specific syntax for better command recognition.\\n3. **Entertainment Exploration:** Try exploring additional facets of Alexa, such as trivia games or personalized music stations, to enrich the entertainment experience.\\n4. **Review and Support:** In the next session, review R.T.’s experiences with using Alexa for intended purposes to ensure correct implementation and comfort with the devices.\\n5. **Patient Education:** Provide additional instruction on using Alexa for more complex tasks, like integrating with other smart technologies (e.g., TV) to enhance overall accessibility and entertainment control.\\n\\n**Clinical Significance:**\\nThis structured approach aims to empower R.T. by enhancing technical literacy and providing consistent practice in using digital assistants as beneficial tools for entertainment and personal management. Enhancing R.T.'s proficiency with Alexa aligns with the long-term goal of promoting independence and potentially reducing stress through accessible, technology-driven solutions.\",\n",
       " \"### SOAP Note\\n---\\n\\n**Subjective:**\\n- **Patient R.T.'s Experience:** Patient R.T. feels well, recently engaged in swimming activities with their father, which they find beneficial for their health.\\n- **Technological Use:** The patient uses Alexa (Speaker 7) for playing music, setting reminders, and managing self-care activities. R.T. has effectively incorporated this into their routine.\\n- **Self-Care Challenges:** \\n  - Difficulty with personal grooming, particularly with hair due to arm weakness.\\n  - Managing lotion application leads to excessive application due to arm weakness.\\n  - Dietary improvements are being attempted by eliminating processed foods.\\n- **Medication Management:** Regularly takes anti-seizure medication (Keppra), considering using technology for reminders.\\n- **Patient's Goals:** Improve management of medications, maintain health routines such as PT exercises and reminders, socializing with peers, and returning to lab work.\\n\\n**Objective:**\\n- **Commands Practiced:**\\n  - Successful commands with Alexa include playing music, adjusting volume, setting medication reminders, and creating a shopping list.\\n  - Participation in practicing creating and reviewing medication lists in group sessions.\\n- **Performance Metrics:**\\n  - Set reminders for medications and self-care tasks.\\n  - Demonstrated ability to command Alexa for informative tasks, such as finding a dentist and playing music.\\n- **Assistance Required:** Needed structured prompting for certain tasks, especially creating medication lists and setting reminders accurately.\\n\\n**Assessment:**\\n- **Technological Integration:** \\n  - Patient R.T. has integrated Alexa into daily activities, showing improvement in command usage compared to previous sessions. The patient sees benefits in using Alexa for reminders and tasks but faces occasional issues with detailed command phrasing.\\n- **Self-Care Challenges:**\\n  - Arm weakness affects daily tasks; however, the patient is proactive in identifying areas for support, such as needing assistance or technique adjustment for tasks like hair styling and lotion application.\\n- **Engagement Levels:** \\n  - R.T. shows significant engagement when discussing music and self-care management via technological aides, enhancing comfort in executing daily routines.\\n\\n**Plan:**\\n- **Technological Engagement Homework:**\\n  - Continue practicing commands with Alexa, focusing on the precision of command phrasing.\\n  - Implement step-by-step instructions in creating and managing medication and shopping lists.\\n- **Self-Care Strategy:**\\n  - Practice using both hands for tasks such as applying lotion to accommodate arm weakness.\\n  - Create a structured dietary plan to balance the transition to healthier food options, utilize shopping list features.\\n- **Future Sessions:**\\n  - Focus on enhancing the use of technology for timely medication reminders and nuanced self-care tasks.\\n  - Ensure alarms for PT and medication are consistently utilized, and encourage patient involvement in social opportunities to aid in social skills development.\\n- **Support and Monitoring:**\\n  - Clinicians will monitor the effectiveness of technological aids in improving self-care management and provide feedback in subsequent sessions.\",\n",
       " \"**SOAP Note**\\n\\n**Subjective:**\\n- Patient R.T. expresses interest in using voice assistant technology (Alexa) for scheduling, reminders, and accessing news and facts related to interests such as sports, specifically events like the Olympics, elections, and surfing.\\n- R.T. is keen to learn about specific sports events, e.g., who won certain Olympic events and updates on the U.S. Olympic breakdancing and surfing teams.\\n- The patient is motivated by staying informed about current events and has a background in genetics, showing interest in recent scientific advancements, such as CRISPR.\\n- R.T. reports a desire to keep updated with local and national elections and weather updates for personal planning and general knowledge.\\n- The patient actively engages in physical activities like surfing and swimming and is currently in physical therapy due to a recent focus on recovery from past seizures, necessitating caution around water activities.\\n- R.T. uses Alexa to manage medication lists and is integrating voice-activated technology into daily routines to adjust reminders for medication changes over time.\\n\\n**Objective:**\\n- R.T. successfully creates and updates a medication list with Alexa, adding medications like Keppra and Lamotrigine with no assistance, indicating adequate familiarity with voice technology.\\n- R.T. demonstrates proficiency in scheduling events using Alexa, successfully adding therapy and medical appointments to the calendar.\\n- The patient efficiently interacts with Alexa to access news briefs and current events but needed to manually stop a lengthy news brief on the Olympics.\\n- Attempts to obtain traffic updates on specific routes were unsuccessful, indicating a potential gap in Alexa's functionality or current configuration.\\n\\n**Assessment:**\\n- R.T. is showing notable progress in integrating Alexa into daily tasks, enhancing engagement with routine management and staying informed on personal interests.\\n- The patient displays a high level of interest and motivation in personalizing the use of Alexa to expand knowledge on current events, which aligns with personal interests and goals.\\n- Challenges remain in executing more complex commands seamlessly, such as obtaining specific real-time traffic data, suggesting the need for additional practice or adjustment.\\n- R.T.’s proactive approach in using technology is contributing positively to managing health (medication and appointment reminders) and personal interests, supporting ongoing rehabilitation goals post-seizure.\\n\\n**Plan:**\\n- Encourage R.T. to continue utilizing Alexa for daily reminders, medication management, and staying informed on topics of interest, enhancing engagement and independence.\\n- Schedule a follow-up session to address challenges with traffic updates, exploring adjustments in command phrasing or device configuration.\\n- Assign R.T. to practice asking Alexa for updates related to scientific advancements, supporting ongoing education aligned with R.T.’s background in genetics.\\n- Recommend continuing practice with adding/removing items from the medication list as medications change, including adjusting dosages as per neurologist's guidance.\\n- Encourage exploration of additional Alexa skills that may enhance usability, such as asking open-ended questions to improve command dialogue efficiency.\"]"
      ]
     },
     "execution_count": 12,
     "metadata": {},
     "output_type": "execute_result"
    }
   ],
   "source": [
    "single_soap_note_list"
   ]
  },
  {
   "cell_type": "code",
   "execution_count": 13,
   "id": "0461312a",
   "metadata": {},
   "outputs": [
    {
     "name": "stdout",
     "output_type": "stream",
     "text": [
      "**SOAP Note**\n",
      "\n",
      "**Subjective:**\n",
      "Patient M, a visually impaired individual, attended a session to practice commands with their Alexa device, mainly focusing on scheduling reminders and accessing entertainment. Patient M expressed contentment at independently setting reminders, showcasing excitement over successfully using the device. The caregiver, Speaker 3, played an active supportive role, helping to unmute Alexa and encouraging Patient M during the session. Patient M conveyed a preference for sports, particularly ice hockey, and auditory games designed for the visually impaired. Speaker 3 supported the patient by facilitating game setups and offering imaginative assistance, like drawing out sports plays. There was a notable emphasis on exploring entertainment options via technology, fostering independence and engagement.\n",
      "\n",
      "**Objective:**\n",
      "During the session, Patient M attempted several Alexa commands:\n",
      "- Successfully set an appointment for 5:45 PM. \n",
      "- Faced an initial challenge with Alexa not hearing the command but succeeded on the second attempt.\n",
      "- Expressed a preference for sports and was able to identify platforms such as TV and Xbox for following sports events.\n",
      "- Collaborated on coming up with scenarios to use Alexa for entertainment needs, demonstrating understanding but requiring guidance from Speaker 3 and Speaker 2.\n",
      "- Practiced setting reminders and playing music, requiring specific streaming services for broader music access.\n",
      "- Successfully executed an Alexa command to play \"Sweet Caroline,\" illustrating proficiency when commands were specific and concise.\n",
      "\n",
      "**Assessment:**\n",
      "Patient M shows progress in using Alexa for scheduling and entertainment, demonstrating increased independence and technological comfort. Initially faced challenges with clarity and specificity of commands. The patient showed enthusiasm for sports engagement and auditory games, facilitated by the caregiver's creative interventions and support. The session indicated a strong potential for mobile technology to enhance Patient M's daily life.\n",
      "\n",
      "**Plan:**\n",
      "- Continue practicing precise voice commands, focusing on the clarity and timing of speech after addressing Alexa.\n",
      "- Encourage exploring additional Alexa skills geared towards auditory instructions, enhancing accessibility.\n",
      "- Set up music streaming services like Spotify or Amazon Music to broaden music command capabilities.\n",
      "- Speaker 3 and Patient M should collaborate on creating a list of potential games and request additional feedback from the clinician on compatible options.\n",
      "- Review strategies for utilizing Alexa's entertainment features, emphasizing practice on how to navigate music, sports updates, and enjoyable activities independently.\n",
      "- Schedule follow-up sessions to address challenges, monitor progress, and adjust strategies for optimal engagement and learning.\n",
      "**SOAP Note for Patient M.A. - Session Date: 07/25/2024**\n",
      "\n",
      "**Subjective:**\n",
      "The session began with a demonstration of M.A.’s ability to interact with Speaker 4, his personal assistant, for setting reminders and appointments. M.A. successfully set an appointment, expressing satisfaction with his autonomous capability. When prompted about leisure activities, M.A. showed interest in sports, specifically ice hockey, and also mentioned playing video games. The caregiver contributed by creating an engaging environment by drawing plays on M.A.'s back, enhancing his understanding of games. They have adapted video games for auditory interaction, which M.A. finds accessible. M.A. expressed a preference for music by artists like Nipsey Hussle and Kendrick Lamar, indicating a reliance on music for entertainment. The dynamic interaction between M.A., his caregiver, and the clinician was supportive, with efforts focused on adapting technology for M.A.'s engagement in preferred activities.\n",
      "\n",
      "**Objective:**\n",
      "M.A. demonstrated the ability to successfully communicate commands to Speaker 4 for setting reminders, with a few repetitions needed for accuracy. He practiced specific entertainment-related commands, including inquiring about sports channels and setting reminders for leisure activities. There was also successful engagement with playing music requests through Speaker 4, though library restrictions were noted. The session showed M.A.'s capability to perform tasks independently but highlighted a need for adaptive tools to aid in visual impairments, with a current focus on auditory assistance.\n",
      "\n",
      "**Assessment:**\n",
      "M.A. shows progress in utilizing adaptive technology for improving daily living and recreation. His continued interest in sports and music provides a rich motivation for integrating auditory technology into his activities. The caregiver’s innovative approaches, like drawing plays, illustrate robust support dynamics that enhance M.A.'s understanding and enjoyment. Performance challenges exist in remembering specific commands and achieving desired outcomes without repetition. Engagement levels are high in preferred activities like music and sports discussion, indicating successful interventions. Ensuring consistent satisfaction with device interaction will require resolving accessibility limitations with media services.\n",
      "\n",
      "**Plan:**\n",
      "- Encourage daily practice with Speaker 4 for reminders and entertainment commands to improve fluency and confidence.\n",
      "- Explore additional auditory games compatible with M.A.'s preferences and capabilities.\n",
      "- Enroll in a streaming service that integrates well with Speaker 4 to expand music and video accessibility.\n",
      "- Continue support from the caregiver in engaging M.A. through creative methods, such as sports play drawings.\n",
      "- Address potential technological enhancements for visual accessibility with available voice-activated games and applications.\n",
      "- Consider future sessions focusing on developing more complex command structures to enhance M.A.'s interaction independence with Speaker 4.\n",
      "- Follow up to integrate streaming service functionality and ensure ease of use, particularly for music and movie enjoyment. Provide education resources to the caregiver to explore voice-activated apps on streaming platforms.\n",
      "**SOAP Note for Patient M.A. Therapy Session**\n",
      "\n",
      "**Subjective:**\n",
      "Patient M.A. participated in a session focused on enhancing his self-care and medical management skills using voice-assisted technology. M.A. expressed a goal to use his device, referred to as Speaker 4, to assist with day-to-day tasks such as brushing his teeth, trimming his nails, and eating breakfast. M.A. currently uses his iPhone for reminders but aims to become more independent by leveraging Speaker 4 for additional reminders. The caregiver expressed a keen interest in integrating radio streaming from KC 790 and Bard library books with the device, highlighting an active and supportive role in M.A.'s therapy. The caregiver also emphasized M.A.'s past independence when he lived alone, reinforcing personal empowerment and motivation for M.A. to regain self-sufficiency.\n",
      "\n",
      "**Objective:**\n",
      "- Successfully demonstrated setting reminders and organizing self-care schedules using Speaker 4.\n",
      "- Practiced voice commands for deleting items from a medication list, adding reminders for medication timing, and sourcing local pharmacies.\n",
      "- Commands were executed with varying success; Speaker 4 correctly managed reminder tasks, although experienced difficulties with more complex, multi-step instructions.\n",
      "- Assistance was frequently required from the caregiver to mitigate technological miscommunications and clarify device functionalities.\n",
      "- Performance Metrics: M.A. responded accurately to simpler commands but required significant prompting and guidance through advanced technological tasks.\n",
      "\n",
      "**Assessment:**\n",
      "M.A. shows strong motivation to enhance his independence in daily living through technology. He is successfully utilizing Speaker 4 for basic reminders but faces challenges in integrating more sophisticated functions, such as interconnected application usage (e.g., Bard library integration). Continued support from his caregiver is beneficial and essential in this learning phase. M.A.'s engagement with tasks indicates a positive trajectory towards achieving greater autonomy, yet complex instruction execution and multitasking with Speaker 4 remain areas needing improvement.\n",
      "\n",
      "**Plan:**\n",
      "- Continue practicing daily voice commands with Speaker 4 to facilitate greater independence. Prioritize commands related to personal care and medication.\n",
      "- Introduce practice sessions to resolve technical issues, specifically focusing on the synchronization of additional applications like iHeartRadio and Bard.\n",
      "- Assign homework: Practice new voice commands to create and manage a checklist for daily self-care activities using Speaker 4.\n",
      "- The caregiver will research app integrations and possibly contact the Braille Institute for support on voice-activated accessibility features.\n",
      "- Next session: Focus on seamlessly executing multi-step commands with Speaker 4, enhancing comfort with technology, and addressing unresolved technical challenges.\n",
      "- Plan to reassess technology integration efficacy and patient independence in upcoming weeks.\n",
      "\n",
      "**Issues of Concern:**\n",
      "A reassessment of task organization using APSO (Assessment, Plan, Subjective, Objective) is suggested for clarity and efficiency, given the session's dual focus on technological education and personal independence advancement.\n",
      "\n",
      "**Clinical Significance:**\n",
      "This session highlights the significant role of caregiver support and adaptive technology in patient empowerment. Strategic utilization of digital assistants can bridge independence gaps when coupled with caregiver engagement and patient willingness. Further refinement in technology use and process evaluation is required to maximize M.A.'s independence effectively.\n",
      "**SOAP Note for Patient M.A.**\n",
      "\n",
      "**Subjective:**\n",
      "The session started with M.A.'s caregiver confirming that they completed the homework with M.A. The patient found the task easy, which involved adding daily medication reminders using a virtual assistant device (Alexa). Although M.A. initially struggled with the phrasing, he eventually succeeded by accurately stating the required command without needing the word 'tomorrow.' There was support from caregivers to recall the specific commands practiced during the week. M.A. mentioned that the device assists with daily living and enjoys asking it for jokes and the current temperature. M.A.'s caregivers and clinician discussed utilizing the device for accessing news and checking facts, such as historical inquiries about World War II and the Olympics. \n",
      "\n",
      "**Objective:**\n",
      "The session focused on practicing voice commands with a smart device. Commands executed during the session included adding medication to a list, checking the temperature, and asking for news updates. M.A. demonstrated the ability to mute and unmute the device independently. Voice command accuracy improved, particularly in creating a medication list and requesting specific information. M.A. successfully asked the device for current events and facts, participating in scenario-based practice relevant to daily life, such as determining local traffic conditions and current temperatures.\n",
      "\n",
      "**Assessment:**\n",
      "M.A. showed progress in using the Alexa device with increasing independence, which contributes to his goal of using technology to aid in daily activities and information retrieval. There is a notable improvement in executing voice commands correctly, although initial recall issues suggest continuing dependence at times on caregiver support. M.A.'s engagement with the device indicates growing confidence and competence. M.A.'s interest in information such as weather, news, and historical facts indicates cognitive engagement and an ability to generalize learned skills to various contexts.\n",
      "\n",
      "**Plan:**\n",
      "1. Continue practicing voice commands with an emphasis on independence—encourage M.A. to use the device daily and without caregiver prompting.\n",
      "2. Schedule regular practice at home, focusing on commands for accessing news, weather updates, setting reminders, and fact-checking.\n",
      "3. Implement a checklist for M.A. to follow during practice sessions to minimize caregiver intervention.\n",
      "4. Introduce more complex commands gradually, such as syncing calendars and making inquiries about specific interests (e.g., Olympic history).\n",
      "5. Monitor and support the development of M.A.’s ability to seek information independently using the device.\n",
      "6. Share the practice schedule with caregivers and ensure they understand the device's functionalities to offer adequate support without leading.\n",
      "7. Plan follow-up sessions to assess progress and adjust strategies as needed based on M.A.'s evolving needs and capabilities.\n",
      "\n",
      "**Clinical Significance:**\n",
      "This session highlights the integration of technology in patient rehabilitation, focusing on enhancing independence in daily living skills through the use of smart devices. M.A.'s engagement with Alexa as a tool demonstrates technology's potential in supporting cognitive and procedural learning, which can significantly impact quality of life and self-sufficiency.\n",
      "**SOAP Note for Patient M.A. - Session Date: 08-15-2024 (Week 5)**\n",
      "\n",
      "**Subjective:**\n",
      "- **Patient's Experience and Motivation:** Patient M.A. engaged in the session with a focus on learning how to effectively use voice commands to interact with the Alexa device for meal preparation. M.A. expressed curiosity and willingness to explore different technology solutions to aid in this task, particularly interested in finding recipes and creating a shopping list independently.\n",
      "- **Interaction Dynamics:** The session included active participation from M.A., support and prompting from M.A.’s caregiver (Speaker 1), and guidance from the clinician. M.A. showed a keen interest in incorporating dietary preferences, such as finding gluten-free or vegan recipes, and was eager to improve interaction with technology to enhance independence in cooking and shopping tasks.\n",
      "\n",
      "**Objective:**\n",
      "- **Commands Practiced:** M.A. practiced commands involving asking for recipes, reading ingredients, and managing a shopping list. Specific commands included asking the Alexa to find, read, and list mac and cheese recipes, including gluten-free options.\n",
      "- **Performance Metrics:** M.A. was successful in initial basic commands but faced challenges with getting the device to read recipe details aloud due to device limitations. Alternative methods were discussed, such as using more specific commands or different devices like an Echo Dot. \n",
      "- **Assistance Required:** Significant guidance from both the clinician and caregivers was needed to navigate device settings and refine command syntax for optimal performance.\n",
      "\n",
      "**Assessment:**\n",
      "- **Challenges:** M.A. experienced difficulties with device interactions, especially when attempting to obtain detailed verbal feedback from the Alexa with a screened device.\n",
      "- **Progress:** M.A. showed improved confidence in vocal projection and command delivery, indicating progress from initial sessions where M.A. was more reserved.\n",
      "- **Engagement:** Increased engagement with the session’s tasks was noted, with a specific interest in leveraging technology for dietary planning and adherence to dietary preferences, such as gluten-free and vegetarian options.\n",
      "\n",
      "**Plan:**\n",
      "- **Next Steps for Practice:**\n",
      "  1. **Continue practicing commands** with a focus on more specific phrasing to reduce ambiguity, such as specifying the desired recipe's dietary restrictions or source (e.g., \"find a gluten-free mac and cheese recipe from Allrecipes\").\n",
      "  2. **Explore different devices** like the Echo Dot, which may provide better auditory feedback without relying on visual interaction.\n",
      "  3. **Homework Assignments:** Practice formulating commands to create a complete shopping list and execute step-by-step meal preparations using voice commands.\n",
      "  4. **Device Settings Optimization:** Clinician and caregivers to research and potentially implement settings adjustments, such as enabling voice view for assisted reading options on the current Alexa device.\n",
      "  5. **Patient Education:** Further exploration into dietary information retrieval via Alexa commands, including nutritional content (sugar, sodium) for specific foods.\n",
      "  \n",
      "- **Future Sessions Focus:** Emphasis on increasing M.A.'s independence with meal planning and shopping through enhanced proficiency with voice-activated technology, alongside continued support and refinement of device interaction techniques.\n",
      "\n",
      "**Issues of Concern:**\n",
      "- Efforts remain ongoing to mitigate the limitations presented by screen-based devices in auditory feedback.\n",
      "- Future sessions may rearrange the SOAP note format into APSO to facilitate quicker access to critical planning and assessment details, emphasizing progress and actionable steps for M.A.’s goals in technology-assisted living.\n",
      "**SOAP Note**  \n",
      "\n",
      "---\n",
      "\n",
      "**Subjective:**  \n",
      "The patient, R.T., reports utilizing multiple scheduling tools to manage reminders and appointments, including a physical wall calendar and the Apple calendar on their iPhone. The patient feels the importance of having these double-entered aids in reinforcing their commitment to appointments. They express reliance on reminders for various therapies, such as physical and speech therapy, with support from their parents for transport. The interaction revealed a focus on setting reminders to manage socialization, therapy sessions, financial visits to the credit union, and the patient’s goals towards independence. The patient is motivated to enhance communicative interactions, manage personal care before appointments, and grow in financial independence.\n",
      "\n",
      "**Objective:**  \n",
      "R.T. successfully implements dual scheduling strategies, utilizing both a physical calendar and a digital app to reinforce routine compliance. The patient also uses audio (Alexa or phone reminders) to prepare for events requiring physical readiness, demonstrating a 100% usage rate of these strategies for known activities like therapies and social engagements. R.T. is practicing compensatory strategies such as visual reminders and auditory cues for task management and appears to acknowledge the need for initiation in communication per therapy goals.\n",
      "\n",
      "**Assessment:**  \n",
      "R.T. shows effective use of compensatory strategies, demonstrating competency in managing a dual calendaring system. There is a clear effort in maintaining routine through consistent time frames set for reminders, such as preparing for physical therapy. The patient is actively working towards increasing independence and taking ownership of scheduling. Challenges include initiation in social interactions and requiring reminders for self-care related to therapy sessions. The motivation to independently manage schedules highlights progress in cognitive organization and self-reliance.\n",
      "\n",
      "**Plan:**  \n",
      "1. **Continue Current Strategies:** R.T. will continue using both physical and digital scheduling tools to reinforce commitment to appointments.\n",
      "   \n",
      "2. **Enhancement of Initiation Skills:** Practice starting conversations during social gatherings and therapy sessions. R.T. could brainstorm conversation topics and create reminder prompts for speech initiation.\n",
      "\n",
      "3. **Self-Care Reminders:** Establish specific reminders for actions like applying lotion, bringing a water bottle, or selecting attire.\n",
      "\n",
      "4. **Financial Management Practice:** Set goals for financial independence, with reminders for monthly credit union visits to track investments and savings.\n",
      "\n",
      "5. **Family and Peer Engagement:** Encourage social interactions that foster goal-oriented communication. Establish reminders for event preparation like visiting a restaurant with family.\n",
      "\n",
      "6. **Follow-up:** In the next session, evaluate the success of structured conversation initiation and the effectiveness of the reminders in achieving therapy goals. Collaborate with clinician Angela for additional communication strategies.\n",
      "\n",
      "--- \n",
      "\n",
      "This structured note provides a clear framework of R.T.’s experiences and goals, alongside the strategies employed to meet therapeutic objectives. It emphasizes actionable tasks that will aid in continuous development and independence in daily activities.\n",
      "**SOAP Note for Therapy Session on 07-25-2024**\n",
      "\n",
      "**Subjective:**\n",
      "The session involved a group therapy discussion focused on entertainment and the use of digital assistants, specifically Alexas, for leisure activities. Patient R.T. expressed an interest in using Alexa for finding trending movies and was enthusiastic about going to the cinema, highlighting the enjoyment of watching movies with humor and eating popcorn. R.T. utilizes a laptop and cellphone for entertainment, often visiting YouTube for music and social media for updates on friends’ activities. The patient is familiar with Spotify as a music streaming service they find valuable for its calming music selection.\n",
      "\n",
      "R.T. demonstrated an interest in nostalgia, preferring old folk and melodic rock music like Fleetwood Mac. The patient mentioned a need for soothing music while engaging in mentally demanding tasks such as renewing their laboratory license. There were attempts to create playlists and incorporate reminders using their Alexa to optimize use for personal scheduling needs.\n",
      "\n",
      "**Objective:**\n",
      "- R.T. successfully interacted with their Alexa, giving commands to set alarms and reminders. Demonstrated commands included: setting an alarm for 5 minutes and creating recurring reminders to complete tasks.\n",
      "- During the group session, R.T. practiced playing media commands with a quasi-success rate, occasionally needing prompts from the clinicians to refine commands for precision.\n",
      "- R.T.’s grasp of using music and video streaming services via Alexa showed progress but required additional support in using specific command syntax—particularly with video playbacks and fast-forwarding features.\n",
      "\n",
      "**Assessment:**\n",
      "R.T. is actively engaging in integrating technology into daily routines, showing initiative in learning and adapting to new ways of accessing entertainment. The patient displays a positive attitude towards learning despite occasional difficulties with command syntax when using Alexa. There appears to be a moderate level of competency, particularly in setting reminders and basic command usage for preferred hobbies like listening to music and planning entertainment activities. Further focus could help R.T. fully leverage Alexa’s capabilities for stress relief and effective personal/work task management.\n",
      "\n",
      "**Plan:**\n",
      "1. **Homework Assignment:** R.T. is encouraged to practice setting and using a variety of reminders or alarms on Alexa independently to reinforce learning and promote autonomy.\n",
      "2. **Practice Commands:** Continue practicing play/pause and volume adjustment commands with both music and video content on platforms like YouTube and Spotify. Experiment with specific syntax for better command recognition.\n",
      "3. **Entertainment Exploration:** Try exploring additional facets of Alexa, such as trivia games or personalized music stations, to enrich the entertainment experience.\n",
      "4. **Review and Support:** In the next session, review R.T.’s experiences with using Alexa for intended purposes to ensure correct implementation and comfort with the devices.\n",
      "5. **Patient Education:** Provide additional instruction on using Alexa for more complex tasks, like integrating with other smart technologies (e.g., TV) to enhance overall accessibility and entertainment control.\n",
      "\n",
      "**Clinical Significance:**\n",
      "This structured approach aims to empower R.T. by enhancing technical literacy and providing consistent practice in using digital assistants as beneficial tools for entertainment and personal management. Enhancing R.T.'s proficiency with Alexa aligns with the long-term goal of promoting independence and potentially reducing stress through accessible, technology-driven solutions.\n",
      "### SOAP Note\n",
      "---\n",
      "\n",
      "**Subjective:**\n",
      "- **Patient R.T.'s Experience:** Patient R.T. feels well, recently engaged in swimming activities with their father, which they find beneficial for their health.\n",
      "- **Technological Use:** The patient uses Alexa (Speaker 7) for playing music, setting reminders, and managing self-care activities. R.T. has effectively incorporated this into their routine.\n",
      "- **Self-Care Challenges:** \n",
      "  - Difficulty with personal grooming, particularly with hair due to arm weakness.\n",
      "  - Managing lotion application leads to excessive application due to arm weakness.\n",
      "  - Dietary improvements are being attempted by eliminating processed foods.\n",
      "- **Medication Management:** Regularly takes anti-seizure medication (Keppra), considering using technology for reminders.\n",
      "- **Patient's Goals:** Improve management of medications, maintain health routines such as PT exercises and reminders, socializing with peers, and returning to lab work.\n",
      "\n",
      "**Objective:**\n",
      "- **Commands Practiced:**\n",
      "  - Successful commands with Alexa include playing music, adjusting volume, setting medication reminders, and creating a shopping list.\n",
      "  - Participation in practicing creating and reviewing medication lists in group sessions.\n",
      "- **Performance Metrics:**\n",
      "  - Set reminders for medications and self-care tasks.\n",
      "  - Demonstrated ability to command Alexa for informative tasks, such as finding a dentist and playing music.\n",
      "- **Assistance Required:** Needed structured prompting for certain tasks, especially creating medication lists and setting reminders accurately.\n",
      "\n",
      "**Assessment:**\n",
      "- **Technological Integration:** \n",
      "  - Patient R.T. has integrated Alexa into daily activities, showing improvement in command usage compared to previous sessions. The patient sees benefits in using Alexa for reminders and tasks but faces occasional issues with detailed command phrasing.\n",
      "- **Self-Care Challenges:**\n",
      "  - Arm weakness affects daily tasks; however, the patient is proactive in identifying areas for support, such as needing assistance or technique adjustment for tasks like hair styling and lotion application.\n",
      "- **Engagement Levels:** \n",
      "  - R.T. shows significant engagement when discussing music and self-care management via technological aides, enhancing comfort in executing daily routines.\n",
      "\n",
      "**Plan:**\n",
      "- **Technological Engagement Homework:**\n",
      "  - Continue practicing commands with Alexa, focusing on the precision of command phrasing.\n",
      "  - Implement step-by-step instructions in creating and managing medication and shopping lists.\n",
      "- **Self-Care Strategy:**\n",
      "  - Practice using both hands for tasks such as applying lotion to accommodate arm weakness.\n",
      "  - Create a structured dietary plan to balance the transition to healthier food options, utilize shopping list features.\n",
      "- **Future Sessions:**\n",
      "  - Focus on enhancing the use of technology for timely medication reminders and nuanced self-care tasks.\n",
      "  - Ensure alarms for PT and medication are consistently utilized, and encourage patient involvement in social opportunities to aid in social skills development.\n",
      "- **Support and Monitoring:**\n",
      "  - Clinicians will monitor the effectiveness of technological aids in improving self-care management and provide feedback in subsequent sessions.\n",
      "**SOAP Note**\n",
      "\n",
      "**Subjective:**\n",
      "- Patient R.T. expresses interest in using voice assistant technology (Alexa) for scheduling, reminders, and accessing news and facts related to interests such as sports, specifically events like the Olympics, elections, and surfing.\n",
      "- R.T. is keen to learn about specific sports events, e.g., who won certain Olympic events and updates on the U.S. Olympic breakdancing and surfing teams.\n",
      "- The patient is motivated by staying informed about current events and has a background in genetics, showing interest in recent scientific advancements, such as CRISPR.\n",
      "- R.T. reports a desire to keep updated with local and national elections and weather updates for personal planning and general knowledge.\n",
      "- The patient actively engages in physical activities like surfing and swimming and is currently in physical therapy due to a recent focus on recovery from past seizures, necessitating caution around water activities.\n",
      "- R.T. uses Alexa to manage medication lists and is integrating voice-activated technology into daily routines to adjust reminders for medication changes over time.\n",
      "\n",
      "**Objective:**\n",
      "- R.T. successfully creates and updates a medication list with Alexa, adding medications like Keppra and Lamotrigine with no assistance, indicating adequate familiarity with voice technology.\n",
      "- R.T. demonstrates proficiency in scheduling events using Alexa, successfully adding therapy and medical appointments to the calendar.\n",
      "- The patient efficiently interacts with Alexa to access news briefs and current events but needed to manually stop a lengthy news brief on the Olympics.\n",
      "- Attempts to obtain traffic updates on specific routes were unsuccessful, indicating a potential gap in Alexa's functionality or current configuration.\n",
      "\n",
      "**Assessment:**\n",
      "- R.T. is showing notable progress in integrating Alexa into daily tasks, enhancing engagement with routine management and staying informed on personal interests.\n",
      "- The patient displays a high level of interest and motivation in personalizing the use of Alexa to expand knowledge on current events, which aligns with personal interests and goals.\n",
      "- Challenges remain in executing more complex commands seamlessly, such as obtaining specific real-time traffic data, suggesting the need for additional practice or adjustment.\n",
      "- R.T.’s proactive approach in using technology is contributing positively to managing health (medication and appointment reminders) and personal interests, supporting ongoing rehabilitation goals post-seizure.\n",
      "\n",
      "**Plan:**\n",
      "- Encourage R.T. to continue utilizing Alexa for daily reminders, medication management, and staying informed on topics of interest, enhancing engagement and independence.\n",
      "- Schedule a follow-up session to address challenges with traffic updates, exploring adjustments in command phrasing or device configuration.\n",
      "- Assign R.T. to practice asking Alexa for updates related to scientific advancements, supporting ongoing education aligned with R.T.’s background in genetics.\n",
      "- Recommend continuing practice with adding/removing items from the medication list as medications change, including adjusting dosages as per neurologist's guidance.\n",
      "- Encourage exploration of additional Alexa skills that may enhance usability, such as asking open-ended questions to improve command dialogue efficiency.\n"
     ]
    }
   ],
   "source": [
    "for i in single_soap_note_list:\n",
    "    print(i)"
   ]
  },
  {
   "cell_type": "code",
   "execution_count": 14,
   "id": "e593bb24",
   "metadata": {},
   "outputs": [
    {
     "data": {
      "text/plain": [
       "BLEU = 3.77 39.4/7.0/2.4/1.1 (BP = 0.729 ratio = 0.760 hyp_len = 5394 ref_len = 7099)"
      ]
     },
     "execution_count": 14,
     "metadata": {},
     "output_type": "execute_result"
    }
   ],
   "source": [
    "import sacrebleu,rouge_score\n",
    "bleu = sacrebleu.corpus_bleu(single_soap_note_list,[y])\n",
    "bleu"
   ]
  },
  {
   "cell_type": "code",
   "execution_count": 15,
   "id": "77cb7756",
   "metadata": {},
   "outputs": [],
   "source": [
    "from classifier_agents import multi_class_classification\n",
    "from pypdf import PdfReader\n",
    "file_name='C:/Users/rahul/Desktop/SOAPNote/multi_stage_classification.pdf'\n",
    "reader = PdfReader(file_name)\n",
    "demo_text=''\n",
    "for i in range(0,len(reader.pages)):\n",
    "    page=reader.pages[i]\n",
    "    text=page.extract_text()\n",
    "    text=text.replace('\\n','')\n",
    "    demo_text+=text\n",
    "communication_instances=[]\n",
    "for i in X:\n",
    "    communication_instances.append(multi_class_classification(i,demo_text))\n"
   ]
  },
  {
   "cell_type": "code",
   "execution_count": null,
   "id": "86964431",
   "metadata": {},
   "outputs": [],
   "source": [
    "from docx import Document\n",
    "output_folder=\"C:/Users/rahul/Desktop/SOAPNote/SOAP_note_generation/gpt4o/communication breakdowns\"\n",
    "for i in range(len(classification_results)):\n",
    "    doc=Document()\n",
    "    doc.add_paragraph(classification_results[i])\n",
    "    filename=f\"{conversation_names[i]}.docx\"\n",
    "    filepath = os.path.join(output_folder, filename)\n",
    "    doc.save(filepath)\n",
    "    print(f\"Created: {filepath}\")"
   ]
  },
  {
   "cell_type": "code",
   "execution_count": 16,
   "id": "707bbe45",
   "metadata": {},
   "outputs": [],
   "source": [
    "from presence_agent import check_presence\n",
    "single_agent_instance=[]\n",
    "ground_instance=[]\n",
    "for i in range(0,len(communication_instances)):\n",
    "    ground_instance.append(check_presence(communication_instances[i],y[i]))\n",
    "    single_agent_instance.append(check_presence(communication_instances[i],single_soap_note_list[i]))\n"
   ]
  },
  {
   "cell_type": "code",
   "execution_count": 17,
   "id": "5cc9bd90",
   "metadata": {},
   "outputs": [
    {
     "data": {
      "text/plain": [
       "['- Total instances found: 3\\n- Details:\\n  1. Interaction with Alexa: Scenarios using Alexa for scheduling and reminders were documented, including setting alarms and reminders for various tasks and events.\\n  2. Interaction with Alexa: Group Training/Alexa command practice where the participant practiced 3 voice commands related to scheduling and reminders.\\n  3. Communication breakdown: During the command practice, the participant needed verbal cueing to increase the loudness of his voice to accurately execute the voice command, and he did not provide details related to time and day for the reminder, prompting Alexa to ask follow-up questions.',\n",
       " \"- Total instances found: 5\\n- Details:\\n  1. M.A. practiced a command to schedule appointments, indicating an interaction with Alexa.\\n  2. M.A.'s mother mentioned that M.A. had set and shut off a timer independently, indicating a successful interaction with Alexa.\\n  3. M.A. practiced 10 voice commands related to entertainment, indicating multiple interactions with Alexa.\\n  4. When asking for a Despicable 4 movie trailer, Alexa provided visual options but did not read them aloud, posing a challenge for M.A., indicating a communication breakdown.\\n  5. Alexa did not play the first two songs due to a subscription requirement, indicating a failed interaction with Alexa.\",\n",
       " \"- Total instances found: 3\\n- Details:\\n  1. M.A. successfully executed the command “Alexa, play a video from January 3rd” in 1/1 attempts.\\n  2. M.A. practiced the command “Alexa, Stop” and succeeded in 1 out of 2 attempts, needing moderate cueing to unmute the device before executing the command.\\n  3. M.A.'s mother mentioned syncing his Apple music account to the Amazon Echo Device/Alexa account, which enabled Alexa to access content from his phone and play a video from a specific date.\",\n",
       " '- Total instances found: 2\\n- Details:\\n  1. Interaction with Alexa: M.A. practiced the command \"Hey Alexa, Can you start the flax, the flash debriefing?\" indicating a potential articulation error with \"flax\" instead of \"flash.\"\\n  2. Interaction with Alexa: M.A. practiced the command \"Hey Alexa, Tomorrow at 2:00 PM can you create an appointment for me?\" followed by \"For the gym,\" which is a successful interaction.',\n",
       " '- Total instances found: 2\\n- Details:\\n  1. MA was able to connect his calendar on ICloud to the Echo Show. (Successful interaction with Alexa)\\n  2. MA practiced various Alexa commands related to meal preparation and dietary restrictions. (Multiple interactions with Alexa, both successful and requiring cues)',\n",
       " '- Total instances found: 2\\n- Details:\\n  1. Interaction with Alexa: \"Pt utilized voice commands to set timers on the Alexa device in 3/3 trials in a 1:1 setting with the clinician given an initial model.\"\\n  2. Interaction with Alexa: \"In a group setting, pt executed 1/1 commands given initial verbal prompt.\"',\n",
       " '- Total instances found: 2\\n- Details:\\n  1. Pt utilized voice commands to manipulate video play and playback on the Alexa device in 15/17 trials in a 1:1 setting with the clinician given minimal verbal cues. (Successful interaction with Alexa)\\n  2. One command, “fast forward” on Alexa was not supported and unable to be executed for this reason. (Communication breakdown with Alexa)',\n",
       " '- Total instances found: 2\\n- Details:\\n  1. Interaction with Alexa: The patient utilized voice commands to create a medication list, set reminders, and ask personal health and self-care related information on the Alexa device in 15/16 trials in a 1:1 setting with the clinician given minimal verbal cues. This indicates successful interactions with Alexa.\\n  2. Communication breakdown with Alexa: One command, “what do I take for stomach pain” was not executed by Alexa, and instead, the patient was prompted to ask Alexa to read the medication list. This indicates a failure in processing the request.',\n",
       " '- Total instances found: 1\\n- Details: \\n  - Instance 1: Pt utilized voice commands to inquire about information regarding the weather, events on her calendar, and current news on the Alexa device in 15/17 trials in a 1:1 setting with the clinician given minimal verbal cues.']"
      ]
     },
     "execution_count": 17,
     "metadata": {},
     "output_type": "execute_result"
    }
   ],
   "source": [
    "ground_instance"
   ]
  },
  {
   "cell_type": "code",
   "execution_count": 18,
   "id": "8e13a673",
   "metadata": {},
   "outputs": [
    {
     "data": {
      "text/plain": [
       "['- Total instances found: 2\\n- Details:\\n  1. Faced an initial challenge with Alexa not hearing the command but succeeded on the second attempt. (Communication breakdown)\\n  2. Successfully executed an Alexa command to play \"Sweet Caroline,\" illustrating proficiency when commands were specific and concise. (Successful interaction with Alexa)',\n",
       " '- Total instances found: 1\\n- Details: \\n  - M.A. demonstrated the ability to successfully communicate commands to Speaker 4 for setting reminders, with a few repetitions needed for accuracy. This indicates a communication breakdown requiring multiple attempts for successful interaction.',\n",
       " '- Total instances found: 3\\n- Details:\\n  1. Interaction with Alexa: Successfully demonstrated setting reminders and organizing self-care schedules using Speaker 4.\\n  2. Interaction with Alexa: Practiced voice commands for deleting items from a medication list, adding reminders for medication timing, and sourcing local pharmacies.\\n  3. Communication breakdown: Commands were executed with varying success; Speaker 4 correctly managed reminder tasks, although experienced difficulties with more complex, multi-step instructions.',\n",
       " '- Total instances found: 0\\n- Details: No instances of communication breakdown or Alexa interactions are explicitly documented in the OBJECTIVE section of the SOAP note.',\n",
       " '- Total instances found: 3\\n- Details:\\n  1. M.A. faced challenges with getting the device to read recipe details aloud due to device limitations.\\n  2. Significant guidance from both the clinician and caregivers was needed to navigate device settings and refine command syntax for optimal performance.\\n  3. Alternative methods were discussed, such as using more specific commands or different devices like an Echo Dot.',\n",
       " '- Total instances found: 1\\n- Details: \\n  1. The patient uses audio (Alexa or phone reminders) to prepare for events requiring physical readiness, demonstrating a 100% usage rate of these strategies for known activities like therapies and social engagements.',\n",
       " '- Total instances found: 3\\n- Details:\\n  1. R.T. successfully interacted with their Alexa, giving commands to set alarms and reminders.\\n  2. During the group session, R.T. practiced playing media commands with a quasi-success rate, occasionally needing prompts from the clinicians to refine commands for precision.\\n  3. R.T.’s grasp of using music and video streaming services via Alexa showed progress but required additional support in using specific command syntax—particularly with video playbacks and fast-forwarding features.',\n",
       " '- Total instances found: 3\\n- Details:\\n  1. Successful commands with Alexa include playing music, adjusting volume, setting medication reminders, and creating a shopping list.\\n  2. Demonstrated ability to command Alexa for informative tasks, such as finding a dentist and playing music.\\n  3. Needed structured prompting for certain tasks, especially creating medication lists and setting reminders accurately.',\n",
       " \"- Total instances found: 4\\n- Details:\\n  1. Successful interaction: R.T. creates and updates a medication list with Alexa, adding medications like Keppra and Lamotrigine without assistance.\\n  2. Successful interaction: R.T. schedules events using Alexa, adding therapy and medical appointments to the calendar.\\n  3. Successful interaction with a minor issue: R.T. accesses news briefs and current events using Alexa but needed to manually stop a lengthy news brief on the Olympics.\\n  4. Communication breakdown: Attempts to obtain traffic updates on specific routes were unsuccessful, indicating a potential gap in Alexa's functionality or current configuration.\"]"
      ]
     },
     "execution_count": 18,
     "metadata": {},
     "output_type": "execute_result"
    }
   ],
   "source": [
    "single_agent_instance"
   ]
  },
  {
   "cell_type": "code",
   "execution_count": 24,
   "id": "07b69044",
   "metadata": {},
   "outputs": [
    {
     "name": "stdout",
     "output_type": "stream",
     "text": [
      "Created: C:/Users/rahul/Desktop/SOAPNote/communication_instances\\MA-Week1.docx\n",
      "Created: C:/Users/rahul/Desktop/SOAPNote/communication_instances\\MA-Week2.docx\n",
      "Created: C:/Users/rahul/Desktop/SOAPNote/communication_instances\\MA-Week3.docx\n",
      "Created: C:/Users/rahul/Desktop/SOAPNote/communication_instances\\MA-Week4.docx\n",
      "Created: C:/Users/rahul/Desktop/SOAPNote/communication_instances\\MA-Week5.docx\n",
      "Created: C:/Users/rahul/Desktop/SOAPNote/communication_instances\\RA-Week1.docx\n",
      "Created: C:/Users/rahul/Desktop/SOAPNote/communication_instances\\RA-Week2.docx\n",
      "Created: C:/Users/rahul/Desktop/SOAPNote/communication_instances\\RA-Week3.docx\n",
      "Created: C:/Users/rahul/Desktop/SOAPNote/communication_instances\\RA-Week4.docx\n"
     ]
    }
   ],
   "source": [
    "communication_instances\n",
    "names=['MA-Week1','MA-Week2','MA-Week3','MA-Week4','MA-Week5','RA-Week1','RA-Week2','RA-Week3','RA-Week4']\n",
    "from docx import Document\n",
    "import os\n",
    "output_folder=\"C:/Users/rahul/Desktop/SOAPNote/communication_instances\"\n",
    "os.makedirs(output_folder,exist_ok=True)\n",
    "for i in range(len(communication_instances)):\n",
    "    doc=Document()\n",
    "    doc.add_paragraph(communication_instances[i])\n",
    "    filename=f\"{names[i]}.docx\"\n",
    "    filepath = os.path.join(output_folder, filename)\n",
    "    doc.save(filepath)\n",
    "    print(f\"Created: {filepath}\")"
   ]
  },
  {
   "cell_type": "code",
   "execution_count": 20,
   "id": "afbed9a7",
   "metadata": {},
   "outputs": [
    {
     "data": {
      "text/plain": [
       "[4, 5, 9, 11, 5, 0, 6, 6, 2]"
      ]
     },
     "execution_count": 20,
     "metadata": {},
     "output_type": "execute_result"
    }
   ],
   "source": [
    "import regex as re\n",
    "count_list=[]\n",
    "for i in communication_instances:\n",
    "    matches=re.findall(re.escape(\"Instance\"), i)\n",
    "    count_list.append(len(matches))\n",
    "count_list\n"
   ]
  },
  {
   "cell_type": "code",
   "execution_count": 22,
   "id": "88b1a5d6",
   "metadata": {},
   "outputs": [],
   "source": [
    "import textgrad as tg\n",
    "from textgrad.tasks import load_task\n",
    "from autogen import AssistantAgent, UserProxyAgent, config_list_from_json\n",
    "import sacrebleu\n",
    "import os\n",
    "from rouge_score import rouge_scorer\n",
    "config_list = config_list_from_json(\"C:/Users/rahul/Documents/OAI_CONFIG_LIST.json\")\n",
    "api_key=config_list[0]['api_key']\n",
    "os.environ[\"OPENAI_API_KEY\"] = api_key\n",
    "conversation=MA_conversation_list[0]\n",
    "llm_engine = tg.get_engine(\"gpt-4o-mini\")\n",
    "tg.set_backward_engine(\"gpt-4o\",override=True)\n",
    "\n",
    "def batch_eval_fn(prediction,ground_truth):\n",
    "    totalloss=None\n",
    "    cross_entropy_loss_list=[]\n",
    "    for pred,ans in zip(prediction,ground_truth):\n",
    "        eval_system_prompt= f\"\"\"How closely does the generated SOAP note match this target SOAP note? Return a higher loss score for greater differences.\n",
    "\n",
    "TARGET: {ans.value}\n",
    "\n",
    "Score from 0-10 where:\n",
    "- 0 = Perfect match\n",
    "- 10 = Completely different\"\"\"\n",
    "        cross_entropy_loss=tg.TextLoss(eval_system_prompt=eval_system_prompt,engine=llm_engine)\n",
    "        cross_entropy_loss_list.append(cross_entropy_loss(pred))\n",
    "    totalloss=tg.sum(cross_entropy_loss_list)\n",
    "    return totalloss\n",
    "\n",
    "question_str_list=[]\n",
    "for i in X:\n",
    "    question_str=f'''What would a comprehensive SOAP note look like based strictly on the \n",
    "    following conversation between a patient and a clinician: {i}, \n",
    "    ensuring it includes all relevant details from the conversation and follows the structure and style described in the provided rubric : {rubric}? '''\n",
    "    question_str_list.append(tg.Variable(question_str,role_description=\"question to the LLM\", requires_grad=False))\n",
    "answer=[tg.Variable(i,role_description=\"answer to the question\",requires_grad=False) for i in y_train]\n",
    "\n",
    "system_prompt = tg.Variable(f\"You are a clinician who is responsible for generating a SOAP Note from the conversation between the doctor(s) and the patient. Follow this rubric : {rubric}\",\n",
    "                            requires_grad=True,\n",
    "                            role_description=\"system prompt to guide the LLM's reasoning strategy for accurate responses\")\n",
    "\n",
    "\n",
    "model = tg.BlackboxLLM(llm_engine, system_prompt=system_prompt)\n",
    "optimizer = tg.TGD(parameters=list(model.parameters()))\n",
    "prediction_list=[model(i) for i in question_str_list]\n",
    "loss = batch_eval_fn(prediction_list,answer)\n",
    "loss.backward()\n",
    "optimizer.step()"
   ]
  },
  {
   "cell_type": "code",
   "execution_count": 37,
   "id": "6b7039fa",
   "metadata": {},
   "outputs": [
    {
     "data": {
      "text/plain": [
       "\"You are a clinician responsible for generating a comprehensive SOAP Note from the conversation between the doctor(s) and the patient. Your goal is to accurately capture the patient's interaction with technology, specifically focusing on activities of daily living (ADLs) and information-seeking tasks. Follow this structured approach:\\n\\n1. **Broader ADL-Related Tasks**: Emphasize a wide range of ADL-related tasks beyond just recipe and shopping list management. Include examples such as setting timers, playing music, managing reminders, and other daily activities to ensure a comprehensive view of the patient's functional activities.\\n\\n2. **Motivational Assessment**: Assess and document the patient's motivation and readiness to engage with the device. Evaluate the patient's enthusiasm, willingness to learn, and any motivational factors influencing their interaction with the device.\\n\\n3. **Performance Metrics**: Incorporate quantitative performance metrics in the SOAP note. Track success rates, frequency of successful interactions, and measurable improvements in device usage to provide a detailed and objective assessment of the patient's progress.\\n\\n4. **Specific Goals and Strategies**: Outline specific, measurable goals and strategies for the patient's use of the device. Set target success rates for voice command accuracy and develop a step-by-step plan to improve device interaction, ensuring clear objectives for the patient's development.\\n\\n5. **Homework and Metacognitive Strategies**: Include a section on homework assignments and metacognitive strategies. Encourage the patient to reflect on their device usage, identify areas for improvement, and engage in self-directed learning to enhance their skills.\\n\\n6. **Consistency and Detail**: Maintain consistency in structure and detail across all sections of the SOAP note. Provide comprehensive information in each section (Subjective, Objective, Assessment, Plan) and ensure the level of detail mirrors that of the target note.\\n\\nBy incorporating these elements, you will generate a SOAP note that aligns closely with the target note, improving the response's accuracy and relevance to the objective function.\""
      ]
     },
     "execution_count": 37,
     "metadata": {},
     "output_type": "execute_result"
    }
   ],
   "source": [
    "system_prompt.value"
   ]
  },
  {
   "cell_type": "code",
   "execution_count": 24,
   "id": "776fca80",
   "metadata": {},
   "outputs": [],
   "source": [
    "single_soap_note_list_1=[]\n",
    "for conversation in X:\n",
    "    soap_note=single_agent_generation(conversation,rubric,system_prompt.value)\n",
    "    single_soap_note_list_1.append(soap_note)"
   ]
  },
  {
   "cell_type": "code",
   "execution_count": 25,
   "id": "24ee3faa",
   "metadata": {},
   "outputs": [
    {
     "data": {
      "text/plain": [
       "BLEU = 2.92 35.2/5.5/1.3/0.5 (BP = 0.858 ratio = 0.867 hyp_len = 6158 ref_len = 7099)"
      ]
     },
     "execution_count": 25,
     "metadata": {},
     "output_type": "execute_result"
    }
   ],
   "source": [
    "import sacrebleu,rouge_score\n",
    "bleu = sacrebleu.corpus_bleu(single_soap_note_list_1,[y])\n",
    "bleu"
   ]
  },
  {
   "cell_type": "code",
   "execution_count": 26,
   "id": "de8d8f15",
   "metadata": {},
   "outputs": [],
   "source": [
    "from presence_agent import check_presence\n",
    "single_agent_instance_1=[]\n",
    "for i in range(0,len(communication_instances)):\n",
    "    single_agent_instance_1.append(check_presence(communication_instances[i],single_soap_note_list_1[i]))"
   ]
  },
  {
   "cell_type": "code",
   "execution_count": 27,
   "id": "01a4be62",
   "metadata": {},
   "outputs": [
    {
     "data": {
      "text/plain": [
       "['- Total instances found: 2\\n- Details:\\n  1. Successfully set up reminders and a class appointment with Alexa. (Successful interaction)\\n  2. Attempted and partially succeeded in playing music through voice commands; faced limitations with music library access. (Technology-related communication issue)',\n",
       " '- Total instances found: 2\\n- Details:\\n  1. Successfully set appointments and reminders using Speaker 4.\\n  2. Positive engagement and prompt learning ability demonstrated by engaging with Speaker 4 for varied commands.',\n",
       " '- Total instances found: 1\\n- Details: \\n  - Difficulty encountered in syncing certain applications like the Bard app with the device for reading books.',\n",
       " '- Total instances found: 1\\n- Details: \\n  - Verbal interaction with Alexa shows understanding but requires occasional prompts to correct and retry commands.',\n",
       " '- Total instances found: 1\\n- Details: \\n  - Continued difficulties with getting complete verbal interaction through voice command, especially with filtering recipe searches effectively.',\n",
       " '- Total instances found: 1\\n- Details: \\n  1. Expressed a need for further exploration and enhanced use of Alexa for reminder functionalities.',\n",
       " '- Total instances found: 2\\n- Details:\\n  1. Attempted to play videos and music playlists but experienced mixed outcomes with command recognition. (Communication breakdown with Alexa)\\n  2. Successful in setting reminders and alarms using voice commands on Alexa. (Successful interaction with Alexa)',\n",
       " '- Total instances found: 1\\n- Details: \\n  - R.T. demonstrated ability to interact with Alexa to play music, adjust volume, create medication lists, and set reminders effectively. Managed to set alarms for medication intake and PT appointments. (This indicates successful interactions with Alexa, but no communication breakdowns are documented in the Objective section.)',\n",
       " '- Total instances found: 4\\n- Details:\\n  1. Successfully added events and medications using Alexa voice commands during the session.\\n  2. Demonstrated ability to retrieve current events and maintain a medication list effectively.\\n  3. Successful in using Alexa for calendar and flash briefing functionalities.\\n  4. Noted need for accuracy in voice commands, but generally effective with multiple successful task completions.']"
      ]
     },
     "execution_count": 27,
     "metadata": {},
     "output_type": "execute_result"
    }
   ],
   "source": [
    "single_agent_instance_1"
   ]
  },
  {
   "cell_type": "code",
   "execution_count": 29,
   "id": "a26d2b74",
   "metadata": {},
   "outputs": [],
   "source": [
    "pattern=r\"Total instances found:\\s*(\\d+)\"\n",
    "single_score=[]\n",
    "single_score_1=[]\n",
    "ground_score=[]\n",
    "for i in range(len(communication_instances)):\n",
    "    single_match=re.search(pattern,single_agent_instance[i])\n",
    "    single_match_1=re.search(pattern,single_agent_instance_1[i])\n",
    "    ground_match=re.search(pattern,ground_instance[i])\n",
    "    single_score.append(int(single_match.group(1)))\n",
    "    single_score_1.append(int(single_match_1.group(1)))\n",
    "    ground_score.append(int(ground_match.group(1)))\n"
   ]
  },
  {
   "cell_type": "code",
   "execution_count": 32,
   "id": "1327b521",
   "metadata": {},
   "outputs": [
    {
     "data": {
      "text/plain": [
       "[3, 5, 3, 2, 2, 2, 2, 2, 1]"
      ]
     },
     "execution_count": 32,
     "metadata": {},
     "output_type": "execute_result"
    }
   ],
   "source": [
    "ground_score"
   ]
  },
  {
   "cell_type": "code",
   "execution_count": 36,
   "id": "0cc643c9",
   "metadata": {},
   "outputs": [
    {
     "data": {
      "text/plain": [
       "0.4583333333333333"
      ]
     },
     "execution_count": 36,
     "metadata": {},
     "output_type": "execute_result"
    }
   ],
   "source": [
    "sum(ground_score)/sum(count_list)"
   ]
  },
  {
   "cell_type": "code",
   "execution_count": 42,
   "id": "88e0cd44",
   "metadata": {},
   "outputs": [],
   "source": [
    "score_list=[single_score[i]/count_list[i] if count_list[i]!=0 else 0 for i in range(0,len(ground_score))]\n",
    "ground_score_list=[ground_score[i]/count_list[i] if count_list[i]!=0 else 0 for i in range(0,len(ground_score))]\n",
    "score_list_1=[single_score_1[i]/count_list[i] if count_list[i]!=0 else 0 for i in range(0,len(ground_score))]"
   ]
  },
  {
   "cell_type": "code",
   "execution_count": 1,
   "id": "d76d9146",
   "metadata": {},
   "outputs": [
    {
     "ename": "NameError",
     "evalue": "name 'score_list' is not defined",
     "output_type": "error",
     "traceback": [
      "\u001b[1;31m---------------------------------------------------------------------------\u001b[0m",
      "\u001b[1;31mNameError\u001b[0m                                 Traceback (most recent call last)",
      "Cell \u001b[1;32mIn[1], line 1\u001b[0m\n\u001b[1;32m----> 1\u001b[0m MA_single_score\u001b[38;5;241m=\u001b[39m\u001b[43mscore_list\u001b[49m[:\u001b[38;5;241m5\u001b[39m]\n\u001b[0;32m      2\u001b[0m RT_single_score\u001b[38;5;241m=\u001b[39mscore_list[\u001b[38;5;241m5\u001b[39m:\u001b[38;5;241m9\u001b[39m]\n\u001b[0;32m      3\u001b[0m MA_ground_score\u001b[38;5;241m=\u001b[39mground_score_list[:\u001b[38;5;241m5\u001b[39m]\n",
      "\u001b[1;31mNameError\u001b[0m: name 'score_list' is not defined"
     ]
    }
   ],
   "source": [
    "MA_single_score=score_list[:5]\n",
    "RT_single_score=score_list[5:9]\n",
    "MA_ground_score=ground_score_list[:5]\n",
    "RT_ground_score=ground_score_list[5:9]\n",
    "MA_single_score_1=score_list_1[:5]\n",
    "RT_single_score_1=score_list_1[5:9]\n",
    "print(sum(RT_single_score_1)/len(RT_single_score_1))"
   ]
  },
  {
   "cell_type": "code",
   "execution_count": 51,
   "id": "cf054571",
   "metadata": {},
   "outputs": [
    {
     "data": {
      "image/png": "[encoded data removed]",
      "text/plain": [
       "<Figure size 800x600 with 1 Axes>"
      ]
     },
     "metadata": {},
     "output_type": "display_data"
    }
   ],
   "source": [
    "import matplotlib.pyplot as plt\n",
    "import numpy as np\n",
    "\n",
    "# Category labels\n",
    "labels = ['Single', 'Ground', 'Single_1']\n",
    "\n",
    "# Average scores for MA and RT for each category\n",
    "MA_averages = [0.4849494949494949,0.533030303030303 , 0.2604040404040404]\n",
    "RT_averages = [0.5416666666666666,0.29166666666666663 , 0.625]\n",
    "\n",
    "x = np.arange(len(labels))\n",
    "width = 0.35  # Width of each bar\n",
    "\n",
    "plt.figure(figsize=(8, 6))\n",
    "plt.bar(x - width/2, MA_averages, width, label='MA', color='skyblue')\n",
    "plt.bar(x + width/2, RT_averages, width, label='RT', color='salmon')\n",
    "\n",
    "plt.xlabel('Categories')\n",
    "plt.ylabel('Average Score')\n",
    "plt.title('Average Scores for MA and RT Across Three Categories')\n",
    "plt.xticks(x, labels)\n",
    "plt.ylim(0, 1)\n",
    "plt.legend()\n",
    "plt.tight_layout()\n",
    "plt.show()"
   ]
  },
  {
   "cell_type": "code",
   "execution_count": null,
   "id": "e1a6868d",
   "metadata": {},
   "outputs": [],
   "source": []
  }
 ],
 "metadata": {
  "kernelspec": {
   "display_name": "agenticenv",
   "language": "python",
   "name": "python3"
  },
  "language_info": {
   "codemirror_mode": {
    "name": "ipython",
    "version": 3
   },
   "file_extension": ".py",
   "mimetype": "text/x-python",
   "name": "python",
   "nbconvert_exporter": "python",
   "pygments_lexer": "ipython3",
   "version": "3.12.8"
  }
 },
 "nbformat": 4,
 "nbformat_minor": 5
}
